{
 "cells": [
  {
   "cell_type": "markdown",
   "metadata": {
    "colab_type": "text",
    "id": "view-in-github"
   },
   "source": [
    "<a href=\"https://colab.research.google.com/github/ai-technipreneurs/python_course_colab_notebooks/blob/main/02_Lecture02.ipynb\" target=\"_parent\"><img src=\"https://colab.research.google.com/assets/colab-badge.svg\" alt=\"Open In Colab\"/></a>"
   ]
  },
  {
   "cell_type": "markdown",
   "metadata": {
    "id": "zG2Z5XJzbzQi"
   },
   "source": [
    "<center>\n",
    "    <a href=\"https://aims-senegal.org/\" ><img src=\"images/logoaimssn.jpeg\" style=\"float:left; max-width: 650px; display: inline\" alt=\"AIMS-SN\"/> </a>\n",
    "    </center>\n",
    "\n",
    "\n",
    "\n",
    "<center>\n",
    "    \n",
    "<a href=\"https://acas-yde.org/\" ><img src=\"images/logo-ACAS.jpg\" style=\"float:right; max-width: 250px; display: inline\" alt=\"ACAS\"/></a>\n",
    "    \n",
    "</center>\n",
    "\n"
   ]
  },
  {
   "cell_type": "markdown",
   "metadata": {
    "id": "LSyl9i29bzQk"
   },
   "source": [
    "****\n",
    "\n",
    "# <center> <b> <span style=\"color:orange;\"> Python Proficiency for Scientific Computing and Data Science (PyPro-SCiDaS)  </span> </b></center>\n",
    "\n",
    "### <center> <b> <span style=\"color:green;\">An Initiation to Programming using Python (Init2Py) </span> </b></center>\n",
    "    \n"
   ]
  },
  {
   "cell_type": "markdown",
   "metadata": {
    "id": "_4TM9s29bzQk"
   },
   "source": [
    "****\n",
    "\n",
    "# <center> <b> <span style=\"color:blue;\">Lecture 2: Strings & Files</span> </b></center>\n",
    "\n",
    "<!--NAVIGATION-->\n",
    "<  [1.Variables and assignements](01.Lecture01.ipynb)| [ToC](Index.ipynb) |  [3.Iterables or containers](03.Lecture03.ipynb)>\n",
    "\n",
    "****"
   ]
  },
  {
   "cell_type": "markdown",
   "metadata": {
    "id": "8hqSU8WNbzQl"
   },
   "source": [
    "### <left> <b> <span style=\"color:brown;\">Instructeur : </span> </b></left>[Yaé Ulrich Gaba](https://github.com/gabayae)\n",
    "\n",
    "> **Summary:** This lecture aims to present `strings`, reviewing some of the most commonly encountered operations, particularly in text processing tasks. We will also examine the string class in greater detail, including how to use the `open()` function to open, read, and write to `files`.\n",
    "\n",
    "****"
   ]
  },
  {
   "cell_type": "markdown",
   "metadata": {
    "id": "3BA1ai2NbzQl"
   },
   "source": [
    "## 0. Introduction\n",
    "\n",
    "\n",
    "\n",
    "Strings in Python are not merely standalone objects; rather, they are sequences of characters that represent text data. Similar to numerical data types, which consist of sequences of digits, strings consist of sequences of characters. These sequences are fundamental in Python programming, as they are often used to construct and manipulate more complex data structures like lists, tuples, and dictionaries.\n",
    "\n",
    "Python treats strings as immutable sequences, meaning that once a string is created, its contents cannot be changed. However, various operations can be performed on strings to generate new strings or extract specific information. These operations include concatenation, slicing, formatting, and various methods for searching and transforming the text. Understanding how to effectively manipulate strings is crucial, as strings are one of the most commonly used data types in Python, especially in tasks involving data processing, file handling, and user input.\n",
    "\n",
    "Moreover, strings serve as the foundation for more advanced objects and data structures. For instance, strings can be used to represent elements within lists or tuples, and they play a critical role in tasks ranging from basic text processing to complex data analysis. As we delve deeper into Python, we will explore the extensive functionality provided by string operations and how they integrate with other Python data types.\n",
    "\n",
    "In addition to handling strings, Python provides robust support for working with files, which is essential for tasks like reading input data, storing output, or simply managing data over the course of a program's execution. Python uses the `open()` function to handle files, allowing you to open, read, write, and close them efficiently.\n",
    "\n",
    "The `open()` function is versatile, enabling you to open a file in various modes, such as reading ('r'), writing ('w'), appending ('a'), or even reading and writing in binary mode ('rb', 'wb'). Once a file is opened, you can perform operations like reading the entire file content into a string, reading it line by line, or writing data back into the file. After completing these operations, it is important to close the file using the `close()` method to free up system resources and ensure data integrity.\n",
    "\n",
    "Understanding how to work with files in Python is critical, especially when dealing with real-world data that often needs to be read from or written to external files. This capability, combined with string manipulation techniques, forms the backbone of many Python programs, enabling efficient data processing, storage, and retrieval.\n"
   ]
  },
  {
   "cell_type": "markdown",
   "metadata": {
    "id": "WzZtLpUabzQl"
   },
   "source": [
    "## 1. Strings\n",
    "\n",
    "### 1.0. Definition of a string variable\n",
    "\n",
    "A string variable is defined in the traditional manner by direct assignment using the equality symbol (as discussed in the section on variable creation). The only distinction between string variables and numerical variables is that the values of string variables must be enclosed in quotation marks during assignment. The three examples below illustrate this."
   ]
  },
  {
   "cell_type": "code",
   "execution_count": 5,
   "metadata": {
    "id": "Dc61g12cbzQl"
   },
   "outputs": [
    {
     "name": "stdout",
     "output_type": "stream",
     "text": [
      "Will you be at the meeting tonight?\n",
      "================================================\n",
      "\t\n",
      "\"Yes,\" he replies.\n",
      "================================================\n",
      "\t\n",
      "Alright, I would appreciate it.\n",
      "================================================\n",
      "\t\n",
      "This sentence is a long string containing all types of quotes: \" ' « » as well as many special characters.\n"
     ]
    }
   ],
   "source": [
    "ch1 = 'Will you be at the meeting tonight?'\n",
    "ch2 = '\"Yes,\" he replies.'\n",
    "ch3 = \"Alright, I would appreciate it.\"\n",
    "ch4 = \"\"\"This sentence is a long string containing all types of quotes: \" ' « » as well as many special characters.\"\"\"\n",
    "\n",
    "print(ch1)\n",
    "print(\"================================================\")\n",
    "print('\\t')\n",
    "\n",
    "print(ch2)\n",
    "print(\"================================================\")\n",
    "print('\\t')\n",
    "\n",
    "print(ch3)\n",
    "print(\"================================================\")\n",
    "print('\\t')\n",
    "\n",
    "print(ch4)\n"
   ]
  },
  {
   "cell_type": "markdown",
   "metadata": {
    "id": "9gwwT7WrbzQm"
   },
   "source": [
    "These four examples demonstrate different uses of quotation marks when defining a string variable.\n",
    "\n",
    "- In the first example (`ch1`), single quotes are used because there is no issue with the string specified. Double quotes could also be used.\n",
    "- In the second example (`ch2`), single quotes are used because the specified string already contains double quotes as values.\n",
    "- In the third example (`ch3`), double quotes are used because the text contains apostrophes, which are actually single quotes.\n",
    "- In the fourth example (`ch4`), triple quotes are used because the text contains not only single quotes, apostrophes, and double quotes but also spans multiple lines. In this case, triple quotes are necessary."
   ]
  },
  {
   "cell_type": "markdown",
   "metadata": {
    "id": "beqpEgS1bzQn"
   },
   "source": [
    "### 1.1. Indexing strings and slicing\n",
    "\n",
    "A string is a sequence of ordered and indexed values. This means you can access each element in the sequence by specifying its index, similar to lists. Portions of a string can also be extracted using slices, with the general notation `[start=0]:[stop=len][:step=1]`. Indexing in Python starts at 0: the 1st element of a list is at index 0, the 2nd is at index 1, and so on. Thus, the n elements of a list are indexed from *0* to *n-1*. The examples below illustrate this.\n",
    "\n",
    "\n",
    "**Indexing:**\n",
    "\n",
    "To access a specific character in a string, you use the index inside square brackets. For example:\n",
    "- `ch[0]` returns the first character of the string `ch`.\n",
    "- `ch[2]` returns the third character.\n",
    "- `ch[-1]` returns the last character of the string.\n",
    "\n",
    "**Slicing:**\n",
    "\n",
    "Slicing allows you to extract a portion of the string. The syntax for slicing is `[start:stop:step]`, where:\n",
    "- `start` is the index of the first character you want to include in the slice.\n",
    "- `stop` is the index of the character just after the last character you want to include.\n",
    "- `step` specifies the interval between characters in the slice (optional; default is 1).\n",
    "\n",
    "Examples of slicing:\n",
    "- `ch[:6]` returns a substring from the beginning of `ch` up to, but not including, index 6.\n",
    "- `ch[6:]` returns a substring from index 6 to the end of the string.\n",
    "- `ch[0:10:2]` returns every second character from index 0 to 10.\n",
    "\n",
    "**Examples:**\n",
    "\n",
    "```python\n",
    "ch = \"Christelle\"\n",
    "print(ch[0])    # Returns 'C'\n",
    "print(ch[2])    # Returns 'r'\n",
    "print(ch[-1])   # Returns 'e', the last character\n",
    "print(ch[:6])   # Returns 'Christ'\n",
    "print(ch[6:])   # Returns 'elle'\n",
    "print(ch[0:10:2]) # Returns 'Crsel'\n",
    "```\n",
    "\n",
    "These operations make it easy to manipulate and extract data from strings, which is crucial for text processing and data manipulation in Python.\n",
    "\n",
    "---"
   ]
  },
  {
   "cell_type": "code",
   "execution_count": 44,
   "metadata": {
    "id": "qep1OySobzQn"
   },
   "outputs": [
    {
     "name": "stdout",
     "output_type": "stream",
     "text": [
      "C\n",
      "r\n",
      "e\n",
      "Christ\n",
      "elle\n",
      "Crsel\n"
     ]
    }
   ],
   "source": [
    "ch=\"Christelle\"\n",
    "print(ch[0]) # returns 'C'\n",
    "print(ch[2]) # returns 'r'\n",
    "print(ch[-1]) # returns 'e', the last element of ch\n",
    "print(ch[:6]) # returns 'Christ'\n",
    "print(ch[6 :]) # returns 'elle'\n",
    "print(ch[0:10:2]) # returns 'Crsel'"
   ]
  },
  {
   "cell_type": "code",
   "execution_count": 12,
   "metadata": {},
   "outputs": [
    {
     "name": "stdout",
     "output_type": "stream",
     "text": [
      "e\n",
      "per\n",
      "Hy\n"
     ]
    }
   ],
   "source": [
    "char= \"Hyper\"\n",
    "print(char[-2])\n",
    "print(char[2:])\n",
    "print(char[:2])"
   ]
  },
  {
   "cell_type": "markdown",
   "metadata": {
    "id": "BfF-C4p0bzQn"
   },
   "source": [
    "The elements of a string are not defined by words separated by spaces but by the characters that make up the string. In fact, even if the string consists of a sentence with multiple words, indexing is done solely based on the individual characters that form the entire string."
   ]
  },
  {
   "cell_type": "markdown",
   "metadata": {
    "id": "MGHiw49xbzQn"
   },
   "source": [
    "<left> <b> <span style=\"color:brown;\">You can manipulate a string (and generally any sequence) using functions (procedural concept) or methods (object-oriented concept). We will discuss this further below.</span> </b></left>"
   ]
  },
  {
   "cell_type": "markdown",
   "metadata": {
    "id": "0vLW_zbSbzQn"
   },
   "source": [
    "### 1.2.  Length of a string**\n",
    "\n",
    "To determine the length of a string, the `len()` function is used."
   ]
  },
  {
   "cell_type": "code",
   "execution_count": 14,
   "metadata": {
    "id": "5BIEuoc6bzQn"
   },
   "outputs": [
    {
     "name": "stdout",
     "output_type": "stream",
     "text": [
      "37\n"
     ]
    }
   ],
   "source": [
    "ch = \"Ceci est une chaîne de plusieurs mots\"\n",
    "print(len(ch))  # returns 37; The string 'ch' consists of 37 characters, including spaces."
   ]
  },
  {
   "cell_type": "markdown",
   "metadata": {
    "id": "9GnDYMTVbzQo"
   },
   "source": [
    "### 1.3. Addition of strings (**Concatenation**)\n",
    "\n",
    "String addition refers to the process of placing strings together, one after the other, to form a single string. This operation is known as **concatenation**. To perform concatenation, the `+` symbol is used between the string variable names. The resulting string is then assigned to a new variable. Examples:\n",
    "\n",
    "```python\n",
    "str1 = \"Hello\"\n",
    "str2 = \"World\"\n",
    "result = str1 + \" \" + str2  # Concatenates 'Hello' and 'World' with a space in between\n",
    "print(result)  # Outputs: Hello World\n",
    "```"
   ]
  },
  {
   "cell_type": "code",
   "execution_count": 20,
   "metadata": {
    "id": "Pm13mJEibzQo"
   },
   "outputs": [
    {
     "name": "stdout",
     "output_type": "stream",
     "text": [
      "Un petit pas pour l'homme, un grand pas pour l'humanité\n"
     ]
    }
   ],
   "source": [
    "x = \"Un petit pas pour l'homme,\"\n",
    "y = \"un grand pas pour l'humanité\"\n",
    "z = x  + \" \" + y  # Concatenates the two strings with a space in between\n",
    "print(z)  # Outputs: 'Un petit pas pour l'homme, un grand pas pour l'humanité'\n"
   ]
  },
  {
   "cell_type": "code",
   "execution_count": 50,
   "metadata": {},
   "outputs": [
    {
     "name": "stdout",
     "output_type": "stream",
     "text": [
      "Pan African\n"
     ]
    }
   ],
   "source": [
    "a= \"Pan\"\n",
    "b= \"African\"\n",
    "c= a + \" \" + b\n",
    "print(c)"
   ]
  },
  {
   "cell_type": "markdown",
   "metadata": {
    "id": "cMLw3KdgbzQo"
   },
   "source": [
    "Be cautious when using the concatenation operator to combine a numeric value with a string to form a single string. For example:\n",
    "\n",
    "```python\n",
    "x = 'Le prix du stylo est'\n",
    "y = 5\n",
    "z = 'euros'\n",
    "```\n",
    "\n",
    "If you want to concatenate `x`, `y`, and `z` to obtain the sentence 'Le prix du stylo est 5 euros', you can't directly do `x + y + z` because `y` is a numeric type. You need to first convert `y` to a string using the `str()` function. Here's how it should be done:\n",
    "\n",
    "```python\n",
    "result = x + \" \" + str(y) + \" \" + z\n",
    "print(result)  # Outputs: 'Le prix du stylo est 5 euros'\n",
    "```"
   ]
  },
  {
   "cell_type": "code",
   "execution_count": 52,
   "metadata": {
    "id": "h1UMUWznbzQo"
   },
   "outputs": [
    {
     "name": "stdout",
     "output_type": "stream",
     "text": [
      "Le prix du stylo est  5 euros\n"
     ]
    }
   ],
   "source": [
    "x = 'Le prix du stylo est'\n",
    "y = 5\n",
    "z = 'euros'\n",
    "ch = x + \" \" + \" \" + str(y) + \" \" + z\n",
    "print(ch) # returns 'Le prix du stylo est5euros'"
   ]
  },
  {
   "cell_type": "code",
   "execution_count": 60,
   "metadata": {},
   "outputs": [
    {
     "name": "stdout",
     "output_type": "stream",
     "text": [
      "Five plus two, is equal to: 7\n"
     ]
    }
   ],
   "source": [
    "d= \"Five plus\"\n",
    "e= \" two, is equal to: \"\n",
    "f= 7\n",
    "g= d + e + str(f)\n",
    "print(g)"
   ]
  },
  {
   "cell_type": "markdown",
   "metadata": {
    "id": "ZbqQo0ASbzQo"
   },
   "source": [
    "### 1.4.  Methods\n",
    "\n",
    "Strings come with [numerous features](https://docs.python.org/2/library/stdtypes.html#string-methods)—referred to as `methods` in Object-Oriented Programming (OOP)—that facilitate their manipulation. The `dir()` function lists all available methods for strings. Among these, the most commonly used are `upper()`, `lower()`, `capitalize()`, `find()`, `replace()`, `count()`, `startswith()`, `endswith()`, and the `in` keyword.\n",
    "\n",
    "These methods allow for operations such as converting text to different cases, searching for and replacing substrings, and checking string content for specific patterns. They are crucial for text processing and data manipulation tasks, enabling efficient handling and transformation of string data. Understanding and utilizing these methods effectively can greatly enhance the capability to work with and analyze text-based information in Python."
   ]
  },
  {
   "cell_type": "code",
   "execution_count": 62,
   "metadata": {},
   "outputs": [
    {
     "data": {
      "text/plain": [
       "['In',\n",
       " 'Out',\n",
       " '_',\n",
       " '_11',\n",
       " '_13',\n",
       " '_15',\n",
       " '_17',\n",
       " '_19',\n",
       " '_2',\n",
       " '_21',\n",
       " '_23',\n",
       " '_25',\n",
       " '_26',\n",
       " '_27',\n",
       " '_29',\n",
       " '_31',\n",
       " '_33',\n",
       " '_35',\n",
       " '_37',\n",
       " '_39',\n",
       " '_4',\n",
       " '_41',\n",
       " '_43',\n",
       " '_45',\n",
       " '_47',\n",
       " '_49',\n",
       " '_51',\n",
       " '_53',\n",
       " '_55',\n",
       " '_57',\n",
       " '_59',\n",
       " '_6',\n",
       " '_61',\n",
       " '_7',\n",
       " '_9',\n",
       " '__',\n",
       " '___',\n",
       " '__builtin__',\n",
       " '__builtins__',\n",
       " '__doc__',\n",
       " '__loader__',\n",
       " '__name__',\n",
       " '__package__',\n",
       " '__pandas',\n",
       " '__session__',\n",
       " '__spec__',\n",
       " '_dh',\n",
       " '_i',\n",
       " '_i1',\n",
       " '_i10',\n",
       " '_i11',\n",
       " '_i12',\n",
       " '_i13',\n",
       " '_i14',\n",
       " '_i15',\n",
       " '_i16',\n",
       " '_i17',\n",
       " '_i18',\n",
       " '_i19',\n",
       " '_i2',\n",
       " '_i20',\n",
       " '_i21',\n",
       " '_i22',\n",
       " '_i23',\n",
       " '_i24',\n",
       " '_i25',\n",
       " '_i26',\n",
       " '_i27',\n",
       " '_i28',\n",
       " '_i29',\n",
       " '_i3',\n",
       " '_i30',\n",
       " '_i31',\n",
       " '_i32',\n",
       " '_i33',\n",
       " '_i34',\n",
       " '_i35',\n",
       " '_i36',\n",
       " '_i37',\n",
       " '_i38',\n",
       " '_i39',\n",
       " '_i4',\n",
       " '_i40',\n",
       " '_i41',\n",
       " '_i42',\n",
       " '_i43',\n",
       " '_i44',\n",
       " '_i45',\n",
       " '_i46',\n",
       " '_i47',\n",
       " '_i48',\n",
       " '_i49',\n",
       " '_i5',\n",
       " '_i50',\n",
       " '_i51',\n",
       " '_i52',\n",
       " '_i53',\n",
       " '_i54',\n",
       " '_i55',\n",
       " '_i56',\n",
       " '_i57',\n",
       " '_i58',\n",
       " '_i59',\n",
       " '_i6',\n",
       " '_i60',\n",
       " '_i61',\n",
       " '_i62',\n",
       " '_i7',\n",
       " '_i8',\n",
       " '_i9',\n",
       " '_ih',\n",
       " '_ii',\n",
       " '_iii',\n",
       " '_oh',\n",
       " 'a',\n",
       " 'b',\n",
       " 'c',\n",
       " 'ch',\n",
       " 'ch1',\n",
       " 'ch2',\n",
       " 'ch3',\n",
       " 'ch4',\n",
       " 'char',\n",
       " 'd',\n",
       " 'dataframe_columns',\n",
       " 'dataframe_hash',\n",
       " 'dtypes_str',\n",
       " 'e',\n",
       " 'enfant',\n",
       " 'exit',\n",
       " 'f',\n",
       " 'g',\n",
       " 'get_dataframes',\n",
       " 'get_ipython',\n",
       " 'getpass',\n",
       " 'hashlib',\n",
       " 'import_pandas_safely',\n",
       " 'is_data_frame',\n",
       " 'json',\n",
       " 'open',\n",
       " 'peluche',\n",
       " 'pi',\n",
       " 'quit',\n",
       " 'title',\n",
       " 'titre',\n",
       " 'x',\n",
       " 'y',\n",
       " 'z']"
      ]
     },
     "execution_count": 62,
     "metadata": {},
     "output_type": "execute_result"
    }
   ],
   "source": [
    "dir()"
   ]
  },
  {
   "cell_type": "code",
   "execution_count": 13,
   "metadata": {},
   "outputs": [
    {
     "name": "stdout",
     "output_type": "stream",
     "text": [
      "PROGRAMMING LANGUAGE PROGRAMMING\n",
      "programming language programming\n",
      "Programming language programming\n",
      "2\n",
      "0\n"
     ]
    }
   ],
   "source": [
    "mystr= \"Programming language Programming\"\n",
    "print(mystr.upper())\n",
    "print(mystr.lower())\n",
    "print(mystr.capitalize())\n",
    "print(mystr.count(\"Programming\"))\n",
    "# d= mystr.split()\n",
    "print(mystr.count(''.join(mystr.split(\"language\"))))"
   ]
  },
  {
   "cell_type": "code",
   "execution_count": 160,
   "metadata": {},
   "outputs": [
    {
     "data": {
      "text/plain": [
       "['Programming ', ' Programming']"
      ]
     },
     "execution_count": 160,
     "metadata": {},
     "output_type": "execute_result"
    }
   ],
   "source": [
    "mystr.split(\"language\")"
   ]
  },
  {
   "cell_type": "code",
   "execution_count": 126,
   "metadata": {},
   "outputs": [
    {
     "name": "stdout",
     "output_type": "stream",
     "text": [
      "Help on int object:\n",
      "\n",
      "class int(object)\n",
      " |  int([x]) -> integer\n",
      " |  int(x, base=10) -> integer\n",
      " |\n",
      " |  Convert a number or string to an integer, or return 0 if no arguments\n",
      " |  are given.  If x is a number, return x.__int__().  For floating point\n",
      " |  numbers, this truncates towards zero.\n",
      " |\n",
      " |  If x is not a number or if base is given, then x must be a string,\n",
      " |  bytes, or bytearray instance representing an integer literal in the\n",
      " |  given base.  The literal can be preceded by '+' or '-' and be surrounded\n",
      " |  by whitespace.  The base defaults to 10.  Valid bases are 0 and 2-36.\n",
      " |  Base 0 means to interpret the base from the string as an integer literal.\n",
      " |  >>> int('0b100', base=0)\n",
      " |  4\n",
      " |\n",
      " |  Built-in subclasses:\n",
      " |      bool\n",
      " |\n",
      " |  Methods defined here:\n",
      " |\n",
      " |  __abs__(self, /)\n",
      " |      abs(self)\n",
      " |\n",
      " |  __add__(self, value, /)\n",
      " |      Return self+value.\n",
      " |\n",
      " |  __and__(self, value, /)\n",
      " |      Return self&value.\n",
      " |\n",
      " |  __bool__(self, /)\n",
      " |      True if self else False\n",
      " |\n",
      " |  __ceil__(...)\n",
      " |      Ceiling of an Integral returns itself.\n",
      " |\n",
      " |  __divmod__(self, value, /)\n",
      " |      Return divmod(self, value).\n",
      " |\n",
      " |  __eq__(self, value, /)\n",
      " |      Return self==value.\n",
      " |\n",
      " |  __float__(self, /)\n",
      " |      float(self)\n",
      " |\n",
      " |  __floor__(...)\n",
      " |      Flooring an Integral returns itself.\n",
      " |\n",
      " |  __floordiv__(self, value, /)\n",
      " |      Return self//value.\n",
      " |\n",
      " |  __format__(self, format_spec, /)\n",
      " |      Convert to a string according to format_spec.\n",
      " |\n",
      " |  __ge__(self, value, /)\n",
      " |      Return self>=value.\n",
      " |\n",
      " |  __getattribute__(self, name, /)\n",
      " |      Return getattr(self, name).\n",
      " |\n",
      " |  __getnewargs__(self, /)\n",
      " |\n",
      " |  __gt__(self, value, /)\n",
      " |      Return self>value.\n",
      " |\n",
      " |  __hash__(self, /)\n",
      " |      Return hash(self).\n",
      " |\n",
      " |  __index__(self, /)\n",
      " |      Return self converted to an integer, if self is suitable for use as an index into a list.\n",
      " |\n",
      " |  __int__(self, /)\n",
      " |      int(self)\n",
      " |\n",
      " |  __invert__(self, /)\n",
      " |      ~self\n",
      " |\n",
      " |  __le__(self, value, /)\n",
      " |      Return self<=value.\n",
      " |\n",
      " |  __lshift__(self, value, /)\n",
      " |      Return self<<value.\n",
      " |\n",
      " |  __lt__(self, value, /)\n",
      " |      Return self<value.\n",
      " |\n",
      " |  __mod__(self, value, /)\n",
      " |      Return self%value.\n",
      " |\n",
      " |  __mul__(self, value, /)\n",
      " |      Return self*value.\n",
      " |\n",
      " |  __ne__(self, value, /)\n",
      " |      Return self!=value.\n",
      " |\n",
      " |  __neg__(self, /)\n",
      " |      -self\n",
      " |\n",
      " |  __or__(self, value, /)\n",
      " |      Return self|value.\n",
      " |\n",
      " |  __pos__(self, /)\n",
      " |      +self\n",
      " |\n",
      " |  __pow__(self, value, mod=None, /)\n",
      " |      Return pow(self, value, mod).\n",
      " |\n",
      " |  __radd__(self, value, /)\n",
      " |      Return value+self.\n",
      " |\n",
      " |  __rand__(self, value, /)\n",
      " |      Return value&self.\n",
      " |\n",
      " |  __rdivmod__(self, value, /)\n",
      " |      Return divmod(value, self).\n",
      " |\n",
      " |  __repr__(self, /)\n",
      " |      Return repr(self).\n",
      " |\n",
      " |  __rfloordiv__(self, value, /)\n",
      " |      Return value//self.\n",
      " |\n",
      " |  __rlshift__(self, value, /)\n",
      " |      Return value<<self.\n",
      " |\n",
      " |  __rmod__(self, value, /)\n",
      " |      Return value%self.\n",
      " |\n",
      " |  __rmul__(self, value, /)\n",
      " |      Return value*self.\n",
      " |\n",
      " |  __ror__(self, value, /)\n",
      " |      Return value|self.\n",
      " |\n",
      " |  __round__(...)\n",
      " |      Rounding an Integral returns itself.\n",
      " |\n",
      " |      Rounding with an ndigits argument also returns an integer.\n",
      " |\n",
      " |  __rpow__(self, value, mod=None, /)\n",
      " |      Return pow(value, self, mod).\n",
      " |\n",
      " |  __rrshift__(self, value, /)\n",
      " |      Return value>>self.\n",
      " |\n",
      " |  __rshift__(self, value, /)\n",
      " |      Return self>>value.\n",
      " |\n",
      " |  __rsub__(self, value, /)\n",
      " |      Return value-self.\n",
      " |\n",
      " |  __rtruediv__(self, value, /)\n",
      " |      Return value/self.\n",
      " |\n",
      " |  __rxor__(self, value, /)\n",
      " |      Return value^self.\n",
      " |\n",
      " |  __sizeof__(self, /)\n",
      " |      Returns size in memory, in bytes.\n",
      " |\n",
      " |  __sub__(self, value, /)\n",
      " |      Return self-value.\n",
      " |\n",
      " |  __truediv__(self, value, /)\n",
      " |      Return self/value.\n",
      " |\n",
      " |  __trunc__(...)\n",
      " |      Truncating an Integral returns itself.\n",
      " |\n",
      " |  __xor__(self, value, /)\n",
      " |      Return self^value.\n",
      " |\n",
      " |  as_integer_ratio(self, /)\n",
      " |      Return a pair of integers, whose ratio is equal to the original int.\n",
      " |\n",
      " |      The ratio is in lowest terms and has a positive denominator.\n",
      " |\n",
      " |      >>> (10).as_integer_ratio()\n",
      " |      (10, 1)\n",
      " |      >>> (-10).as_integer_ratio()\n",
      " |      (-10, 1)\n",
      " |      >>> (0).as_integer_ratio()\n",
      " |      (0, 1)\n",
      " |\n",
      " |  bit_count(self, /)\n",
      " |      Number of ones in the binary representation of the absolute value of self.\n",
      " |\n",
      " |      Also known as the population count.\n",
      " |\n",
      " |      >>> bin(13)\n",
      " |      '0b1101'\n",
      " |      >>> (13).bit_count()\n",
      " |      3\n",
      " |\n",
      " |  bit_length(self, /)\n",
      " |      Number of bits necessary to represent self in binary.\n",
      " |\n",
      " |      >>> bin(37)\n",
      " |      '0b100101'\n",
      " |      >>> (37).bit_length()\n",
      " |      6\n",
      " |\n",
      " |  conjugate(...)\n",
      " |      Returns self, the complex conjugate of any int.\n",
      " |\n",
      " |  is_integer(self, /)\n",
      " |      Returns True. Exists for duck type compatibility with float.is_integer.\n",
      " |\n",
      " |  to_bytes(self, /, length=1, byteorder='big', *, signed=False)\n",
      " |      Return an array of bytes representing an integer.\n",
      " |\n",
      " |      length\n",
      " |        Length of bytes object to use.  An OverflowError is raised if the\n",
      " |        integer is not representable with the given number of bytes.  Default\n",
      " |        is length 1.\n",
      " |      byteorder\n",
      " |        The byte order used to represent the integer.  If byteorder is 'big',\n",
      " |        the most significant byte is at the beginning of the byte array.  If\n",
      " |        byteorder is 'little', the most significant byte is at the end of the\n",
      " |        byte array.  To request the native byte order of the host system, use\n",
      " |        `sys.byteorder' as the byte order value.  Default is to use 'big'.\n",
      " |      signed\n",
      " |        Determines whether two's complement is used to represent the integer.\n",
      " |        If signed is False and a negative integer is given, an OverflowError\n",
      " |        is raised.\n",
      " |\n",
      " |  ----------------------------------------------------------------------\n",
      " |  Class methods defined here:\n",
      " |\n",
      " |  from_bytes(bytes, byteorder='big', *, signed=False)\n",
      " |      Return the integer represented by the given array of bytes.\n",
      " |\n",
      " |      bytes\n",
      " |        Holds the array of bytes to convert.  The argument must either\n",
      " |        support the buffer protocol or be an iterable object producing bytes.\n",
      " |        Bytes and bytearray are examples of built-in objects that support the\n",
      " |        buffer protocol.\n",
      " |      byteorder\n",
      " |        The byte order used to represent the integer.  If byteorder is 'big',\n",
      " |        the most significant byte is at the beginning of the byte array.  If\n",
      " |        byteorder is 'little', the most significant byte is at the end of the\n",
      " |        byte array.  To request the native byte order of the host system, use\n",
      " |        `sys.byteorder' as the byte order value.  Default is to use 'big'.\n",
      " |      signed\n",
      " |        Indicates whether two's complement is used to represent the integer.\n",
      " |\n",
      " |  ----------------------------------------------------------------------\n",
      " |  Static methods defined here:\n",
      " |\n",
      " |  __new__(*args, **kwargs)\n",
      " |      Create and return a new object.  See help(type) for accurate signature.\n",
      " |\n",
      " |  ----------------------------------------------------------------------\n",
      " |  Data descriptors defined here:\n",
      " |\n",
      " |  denominator\n",
      " |      the denominator of a rational number in lowest terms\n",
      " |\n",
      " |  imag\n",
      " |      the imaginary part of a complex number\n",
      " |\n",
      " |  numerator\n",
      " |      the numerator of a rational number in lowest terms\n",
      " |\n",
      " |  real\n",
      " |      the real part of a complex number\n",
      "\n"
     ]
    }
   ],
   "source": [
    "help(mystr.count())"
   ]
  },
  {
   "cell_type": "code",
   "execution_count": 24,
   "metadata": {
    "id": "26e7nvbqbzQo"
   },
   "outputs": [
    {
     "name": "stdout",
     "output_type": "stream",
     "text": [
      "Help on built-in function replace:\n",
      "\n",
      "replace(old, new, count=-1, /) method of builtins.str instance\n",
      "    Return a copy with all occurrences of substring old replaced by new.\n",
      "\n",
      "      count\n",
      "        Maximum number of occurrences to replace.\n",
      "        -1 (the default value) means replace all occurrences.\n",
      "\n",
      "    If the optional argument count is given, only the first count occurrences are\n",
      "    replaced.\n",
      "\n"
     ]
    }
   ],
   "source": [
    "title = \"Python course\"\n",
    "help(title.replace)"
   ]
  },
  {
   "cell_type": "code",
   "execution_count": 112,
   "metadata": {},
   "outputs": [
    {
     "name": "stdout",
     "output_type": "stream",
     "text": [
      "Help on built-in function join:\n",
      "\n",
      "join(iterable, /) method of builtins.str instance\n",
      "    Concatenate any number of strings.\n",
      "\n",
      "    The string whose method is called is inserted in between each given string.\n",
      "    The result is returned as a new string.\n",
      "\n",
      "    Example: '.'.join(['ab', 'pq', 'rs']) -> 'ab.pq.rs'\n",
      "\n"
     ]
    }
   ],
   "source": [
    "help(title.join)"
   ]
  },
  {
   "cell_type": "code",
   "execution_count": 26,
   "metadata": {
    "id": "zsLRGvxZbzQp"
   },
   "outputs": [
    {
     "name": "stdout",
     "output_type": "stream",
     "text": [
      "Calvin et Hobbes\n",
      "================================================\n",
      "\t\n",
      "Calvin & Hobbes\n",
      "================================================\n",
      "\t\n",
      "Calvin & Hobbes\n",
      "================================================\n",
      "\t\n",
      "True\n",
      "================================================\n",
      "\t\n",
      "10\n",
      "-------Calvin et Hobbes-------\n"
     ]
    },
    {
     "data": {
      "text/plain": [
       "['__add__',\n",
       " '__class__',\n",
       " '__contains__',\n",
       " '__delattr__',\n",
       " '__dir__',\n",
       " '__doc__',\n",
       " '__eq__',\n",
       " '__format__',\n",
       " '__ge__',\n",
       " '__getattribute__',\n",
       " '__getitem__',\n",
       " '__getnewargs__',\n",
       " '__getstate__',\n",
       " '__gt__',\n",
       " '__hash__',\n",
       " '__init__',\n",
       " '__init_subclass__',\n",
       " '__iter__',\n",
       " '__le__',\n",
       " '__len__',\n",
       " '__lt__',\n",
       " '__mod__',\n",
       " '__mul__',\n",
       " '__ne__',\n",
       " '__new__',\n",
       " '__reduce__',\n",
       " '__reduce_ex__',\n",
       " '__repr__',\n",
       " '__rmod__',\n",
       " '__rmul__',\n",
       " '__setattr__',\n",
       " '__sizeof__',\n",
       " '__str__',\n",
       " '__subclasshook__',\n",
       " 'capitalize',\n",
       " 'casefold',\n",
       " 'center',\n",
       " 'count',\n",
       " 'encode',\n",
       " 'endswith',\n",
       " 'expandtabs',\n",
       " 'find',\n",
       " 'format',\n",
       " 'format_map',\n",
       " 'index',\n",
       " 'isalnum',\n",
       " 'isalpha',\n",
       " 'isascii',\n",
       " 'isdecimal',\n",
       " 'isdigit',\n",
       " 'isidentifier',\n",
       " 'islower',\n",
       " 'isnumeric',\n",
       " 'isprintable',\n",
       " 'isspace',\n",
       " 'istitle',\n",
       " 'isupper',\n",
       " 'join',\n",
       " 'ljust',\n",
       " 'lower',\n",
       " 'lstrip',\n",
       " 'maketrans',\n",
       " 'partition',\n",
       " 'removeprefix',\n",
       " 'removesuffix',\n",
       " 'replace',\n",
       " 'rfind',\n",
       " 'rindex',\n",
       " 'rjust',\n",
       " 'rpartition',\n",
       " 'rsplit',\n",
       " 'rstrip',\n",
       " 'split',\n",
       " 'splitlines',\n",
       " 'startswith',\n",
       " 'strip',\n",
       " 'swapcase',\n",
       " 'title',\n",
       " 'translate',\n",
       " 'upper',\n",
       " 'zfill']"
      ]
     },
     "execution_count": 26,
     "metadata": {},
     "output_type": "execute_result"
    }
   ],
   "source": [
    "enfant, peluche = \"Calvin\", 'Hobbes'  # Multiple assignment\n",
    "\n",
    "titre = enfant + ' et ' + peluche  # +: String concatenation\n",
    "print(titre)\n",
    "print(\"================================================\")\n",
    "print('\\t')\n",
    "\n",
    "print(titre.replace('et', '&'))  # Substring replacement: 'Calvin & Hobbes'\n",
    "print(\"================================================\")\n",
    "print('\\t')\n",
    "\n",
    "print(' & '.join(titre.split(' et ')))  # Splitting and joining\n",
    "print(\"================================================\")\n",
    "print('\\t')\n",
    "\n",
    "print('Hobbes' in titre)  # in: Inclusion test\n",
    "print(\"================================================\")\n",
    "print('\\t')\n",
    "\n",
    "print(titre.find(\"Hobbes\"))  # str.find: Substring search\n",
    "\n",
    "print(titre.center(30, '-'))  # '-------Calvin et Hobbes-------'\n",
    "\n",
    "dir(str)  # Lists all string methods\n"
   ]
  },
  {
   "cell_type": "code",
   "execution_count": 190,
   "metadata": {},
   "outputs": [
    {
     "name": "stdout",
     "output_type": "stream",
     "text": [
      " Python & other programming languages\n",
      "[' Python ', ' other programming languages']\n",
      " Python & other programming languages\n",
      "True\n",
      "12\n",
      " Python and other programming languages\n"
     ]
    }
   ],
   "source": [
    "mytitle= \" Python and other programming languages\"\n",
    "print(mytitle.replace(\"and\", \"&\"))\n",
    "print(mytitle.split(\"and\"))\n",
    "print(\"&\".join(mytitle.split(\"and\")))\n",
    "print(\"other\" in mytitle)\n",
    "print(mytitle.find(\"other\"))\n",
    "print(mytitle.center(30, '-'))\n"
   ]
  },
  {
   "cell_type": "code",
   "execution_count": 172,
   "metadata": {},
   "outputs": [
    {
     "name": "stdout",
     "output_type": "stream",
     "text": [
      "Help on int object:\n",
      "\n",
      "class int(object)\n",
      " |  int([x]) -> integer\n",
      " |  int(x, base=10) -> integer\n",
      " |\n",
      " |  Convert a number or string to an integer, or return 0 if no arguments\n",
      " |  are given.  If x is a number, return x.__int__().  For floating point\n",
      " |  numbers, this truncates towards zero.\n",
      " |\n",
      " |  If x is not a number or if base is given, then x must be a string,\n",
      " |  bytes, or bytearray instance representing an integer literal in the\n",
      " |  given base.  The literal can be preceded by '+' or '-' and be surrounded\n",
      " |  by whitespace.  The base defaults to 10.  Valid bases are 0 and 2-36.\n",
      " |  Base 0 means to interpret the base from the string as an integer literal.\n",
      " |  >>> int('0b100', base=0)\n",
      " |  4\n",
      " |\n",
      " |  Built-in subclasses:\n",
      " |      bool\n",
      " |\n",
      " |  Methods defined here:\n",
      " |\n",
      " |  __abs__(self, /)\n",
      " |      abs(self)\n",
      " |\n",
      " |  __add__(self, value, /)\n",
      " |      Return self+value.\n",
      " |\n",
      " |  __and__(self, value, /)\n",
      " |      Return self&value.\n",
      " |\n",
      " |  __bool__(self, /)\n",
      " |      True if self else False\n",
      " |\n",
      " |  __ceil__(...)\n",
      " |      Ceiling of an Integral returns itself.\n",
      " |\n",
      " |  __divmod__(self, value, /)\n",
      " |      Return divmod(self, value).\n",
      " |\n",
      " |  __eq__(self, value, /)\n",
      " |      Return self==value.\n",
      " |\n",
      " |  __float__(self, /)\n",
      " |      float(self)\n",
      " |\n",
      " |  __floor__(...)\n",
      " |      Flooring an Integral returns itself.\n",
      " |\n",
      " |  __floordiv__(self, value, /)\n",
      " |      Return self//value.\n",
      " |\n",
      " |  __format__(self, format_spec, /)\n",
      " |      Convert to a string according to format_spec.\n",
      " |\n",
      " |  __ge__(self, value, /)\n",
      " |      Return self>=value.\n",
      " |\n",
      " |  __getattribute__(self, name, /)\n",
      " |      Return getattr(self, name).\n",
      " |\n",
      " |  __getnewargs__(self, /)\n",
      " |\n",
      " |  __gt__(self, value, /)\n",
      " |      Return self>value.\n",
      " |\n",
      " |  __hash__(self, /)\n",
      " |      Return hash(self).\n",
      " |\n",
      " |  __index__(self, /)\n",
      " |      Return self converted to an integer, if self is suitable for use as an index into a list.\n",
      " |\n",
      " |  __int__(self, /)\n",
      " |      int(self)\n",
      " |\n",
      " |  __invert__(self, /)\n",
      " |      ~self\n",
      " |\n",
      " |  __le__(self, value, /)\n",
      " |      Return self<=value.\n",
      " |\n",
      " |  __lshift__(self, value, /)\n",
      " |      Return self<<value.\n",
      " |\n",
      " |  __lt__(self, value, /)\n",
      " |      Return self<value.\n",
      " |\n",
      " |  __mod__(self, value, /)\n",
      " |      Return self%value.\n",
      " |\n",
      " |  __mul__(self, value, /)\n",
      " |      Return self*value.\n",
      " |\n",
      " |  __ne__(self, value, /)\n",
      " |      Return self!=value.\n",
      " |\n",
      " |  __neg__(self, /)\n",
      " |      -self\n",
      " |\n",
      " |  __or__(self, value, /)\n",
      " |      Return self|value.\n",
      " |\n",
      " |  __pos__(self, /)\n",
      " |      +self\n",
      " |\n",
      " |  __pow__(self, value, mod=None, /)\n",
      " |      Return pow(self, value, mod).\n",
      " |\n",
      " |  __radd__(self, value, /)\n",
      " |      Return value+self.\n",
      " |\n",
      " |  __rand__(self, value, /)\n",
      " |      Return value&self.\n",
      " |\n",
      " |  __rdivmod__(self, value, /)\n",
      " |      Return divmod(value, self).\n",
      " |\n",
      " |  __repr__(self, /)\n",
      " |      Return repr(self).\n",
      " |\n",
      " |  __rfloordiv__(self, value, /)\n",
      " |      Return value//self.\n",
      " |\n",
      " |  __rlshift__(self, value, /)\n",
      " |      Return value<<self.\n",
      " |\n",
      " |  __rmod__(self, value, /)\n",
      " |      Return value%self.\n",
      " |\n",
      " |  __rmul__(self, value, /)\n",
      " |      Return value*self.\n",
      " |\n",
      " |  __ror__(self, value, /)\n",
      " |      Return value|self.\n",
      " |\n",
      " |  __round__(...)\n",
      " |      Rounding an Integral returns itself.\n",
      " |\n",
      " |      Rounding with an ndigits argument also returns an integer.\n",
      " |\n",
      " |  __rpow__(self, value, mod=None, /)\n",
      " |      Return pow(value, self, mod).\n",
      " |\n",
      " |  __rrshift__(self, value, /)\n",
      " |      Return value>>self.\n",
      " |\n",
      " |  __rshift__(self, value, /)\n",
      " |      Return self>>value.\n",
      " |\n",
      " |  __rsub__(self, value, /)\n",
      " |      Return value-self.\n",
      " |\n",
      " |  __rtruediv__(self, value, /)\n",
      " |      Return value/self.\n",
      " |\n",
      " |  __rxor__(self, value, /)\n",
      " |      Return value^self.\n",
      " |\n",
      " |  __sizeof__(self, /)\n",
      " |      Returns size in memory, in bytes.\n",
      " |\n",
      " |  __sub__(self, value, /)\n",
      " |      Return self-value.\n",
      " |\n",
      " |  __truediv__(self, value, /)\n",
      " |      Return self/value.\n",
      " |\n",
      " |  __trunc__(...)\n",
      " |      Truncating an Integral returns itself.\n",
      " |\n",
      " |  __xor__(self, value, /)\n",
      " |      Return self^value.\n",
      " |\n",
      " |  as_integer_ratio(self, /)\n",
      " |      Return a pair of integers, whose ratio is equal to the original int.\n",
      " |\n",
      " |      The ratio is in lowest terms and has a positive denominator.\n",
      " |\n",
      " |      >>> (10).as_integer_ratio()\n",
      " |      (10, 1)\n",
      " |      >>> (-10).as_integer_ratio()\n",
      " |      (-10, 1)\n",
      " |      >>> (0).as_integer_ratio()\n",
      " |      (0, 1)\n",
      " |\n",
      " |  bit_count(self, /)\n",
      " |      Number of ones in the binary representation of the absolute value of self.\n",
      " |\n",
      " |      Also known as the population count.\n",
      " |\n",
      " |      >>> bin(13)\n",
      " |      '0b1101'\n",
      " |      >>> (13).bit_count()\n",
      " |      3\n",
      " |\n",
      " |  bit_length(self, /)\n",
      " |      Number of bits necessary to represent self in binary.\n",
      " |\n",
      " |      >>> bin(37)\n",
      " |      '0b100101'\n",
      " |      >>> (37).bit_length()\n",
      " |      6\n",
      " |\n",
      " |  conjugate(...)\n",
      " |      Returns self, the complex conjugate of any int.\n",
      " |\n",
      " |  is_integer(self, /)\n",
      " |      Returns True. Exists for duck type compatibility with float.is_integer.\n",
      " |\n",
      " |  to_bytes(self, /, length=1, byteorder='big', *, signed=False)\n",
      " |      Return an array of bytes representing an integer.\n",
      " |\n",
      " |      length\n",
      " |        Length of bytes object to use.  An OverflowError is raised if the\n",
      " |        integer is not representable with the given number of bytes.  Default\n",
      " |        is length 1.\n",
      " |      byteorder\n",
      " |        The byte order used to represent the integer.  If byteorder is 'big',\n",
      " |        the most significant byte is at the beginning of the byte array.  If\n",
      " |        byteorder is 'little', the most significant byte is at the end of the\n",
      " |        byte array.  To request the native byte order of the host system, use\n",
      " |        `sys.byteorder' as the byte order value.  Default is to use 'big'.\n",
      " |      signed\n",
      " |        Determines whether two's complement is used to represent the integer.\n",
      " |        If signed is False and a negative integer is given, an OverflowError\n",
      " |        is raised.\n",
      " |\n",
      " |  ----------------------------------------------------------------------\n",
      " |  Class methods defined here:\n",
      " |\n",
      " |  from_bytes(bytes, byteorder='big', *, signed=False)\n",
      " |      Return the integer represented by the given array of bytes.\n",
      " |\n",
      " |      bytes\n",
      " |        Holds the array of bytes to convert.  The argument must either\n",
      " |        support the buffer protocol or be an iterable object producing bytes.\n",
      " |        Bytes and bytearray are examples of built-in objects that support the\n",
      " |        buffer protocol.\n",
      " |      byteorder\n",
      " |        The byte order used to represent the integer.  If byteorder is 'big',\n",
      " |        the most significant byte is at the beginning of the byte array.  If\n",
      " |        byteorder is 'little', the most significant byte is at the end of the\n",
      " |        byte array.  To request the native byte order of the host system, use\n",
      " |        `sys.byteorder' as the byte order value.  Default is to use 'big'.\n",
      " |      signed\n",
      " |        Indicates whether two's complement is used to represent the integer.\n",
      " |\n",
      " |  ----------------------------------------------------------------------\n",
      " |  Static methods defined here:\n",
      " |\n",
      " |  __new__(*args, **kwargs)\n",
      " |      Create and return a new object.  See help(type) for accurate signature.\n",
      " |\n",
      " |  ----------------------------------------------------------------------\n",
      " |  Data descriptors defined here:\n",
      " |\n",
      " |  denominator\n",
      " |      the denominator of a rational number in lowest terms\n",
      " |\n",
      " |  imag\n",
      " |      the imaginary part of a complex number\n",
      " |\n",
      " |  numerator\n",
      " |      the numerator of a rational number in lowest terms\n",
      " |\n",
      " |  real\n",
      " |      the real part of a complex number\n",
      "\n"
     ]
    }
   ],
   "source": [
    "help(mytitle.find(\"other\"))"
   ]
  },
  {
   "cell_type": "code",
   "execution_count": 188,
   "metadata": {},
   "outputs": [
    {
     "name": "stdout",
     "output_type": "stream",
     "text": [
      "No Python documentation found for 'Python and other programming languages'.\n",
      "Use help() to get the interactive help utility.\n",
      "Use help(str) for help on the str class.\n",
      "\n"
     ]
    }
   ],
   "source": [
    "help(mytitle.center(3))"
   ]
  },
  {
   "cell_type": "markdown",
   "metadata": {
    "id": "O72LkoKtbzQp"
   },
   "source": [
    "###  1.5. Formatting\n",
    "\n",
    "It is often necessary to retrieve the value of a variable and incorporate it into a string to form a new, usable string for other purposes. For instance, consider a variable `prix` defined as follows:\n",
    "\n",
    "```python\n",
    "prix = 2\n",
    "```\n",
    "\n",
    "We want to display a message like `\"The price of the pen is 2 euros\"`.\n",
    "\n",
    "The goal of formatting is to embed the value of a variable within a string. There are three primary methods to achieve this:\n",
    "\n",
    "- Using the concatenation operator `+`\n",
    "- Using the formatting operator `%`\n",
    "- Using the `str.format()` method\n",
    "\n",
    "We will illustrate just one example using the `str.format()` method. The formatting system allows for precise control over the conversion of variables into strings. It primarily relies on the `str.format()` method, which enables detailed specification of how variables should be inserted and formatted within a string. For more information, you can refer to the [formatting documentation](https://docs.python.org/2/library/string.html#formatstrings)."
   ]
  },
  {
   "cell_type": "code",
   "execution_count": 192,
   "metadata": {
    "id": "qJKACrQBbzQp"
   },
   "outputs": [
    {
     "name": "stdout",
     "output_type": "stream",
     "text": [
      "Calvin a 6 ans\n",
      "================================================\n",
      "\t\n",
      "Calvin a 6 ans\n",
      "================================================\n",
      "\t\n",
      "3.141593 3.14 3141592653.589793 3.14159e+09\n"
     ]
    }
   ],
   "source": [
    "print(\"{nom} a {age} ans\".format(nom='Calvin', age=6)) # 'Calvin a 6 ans'\n",
    "print(\"================================================\")\n",
    "print('\\t')\n",
    "\n",
    "print(\"{} a {} ans\".format('Calvin', 6)) # Shortcut 'Calvin a 6 ans'\n",
    "print(\"================================================\")\n",
    "print('\\t')\n",
    "\n",
    "pi = 3.1415926535897931\n",
    "print(\"{x:f} {x:.2f} {y:f} {y:g}\".format(x=pi, y=pi*1e9)) # '3.141593 3.14 3141592653.589793 3.14159e+09'\n"
   ]
  },
  {
   "cell_type": "code",
   "execution_count": 206,
   "metadata": {},
   "outputs": [
    {
     "name": "stdout",
     "output_type": "stream",
     "text": [
      "Calvin has 8years old\n",
      "Calvin has 8 years old\n"
     ]
    }
   ],
   "source": [
    "name, age = \"Calvin\", 8\n",
    "print( name + \" \" + \"has\" + \" \" + str(age) + \"years old\")\n",
    "print(\"{name} has {age} years old\".format(name='Calvin', age=8))"
   ]
  },
  {
   "cell_type": "markdown",
   "metadata": {
    "id": "3XJ4rHzqbzQp"
   },
   "source": [
    "\n",
    "\n",
    "**Explanation:**\n",
    "\n",
    "- **Named Fields**: In the first example, `\"{nom} a {age} ans\".format(nom='Calvin', age=6)` uses named fields in the format string. The placeholders `{nom}` and `{age}` are replaced by the values provided in the `format` method.\n",
    "\n",
    "- **Positional Fields**: The second example, `\"{} a {} ans\".format('Calvin', 6)`, uses positional placeholders `{}`. The values are inserted in the order they appear in the `format` method.\n",
    "\n",
    "- **Formatting Numbers**: The third example demonstrates formatting numerical values. `\"{x:f} {x:.2f} {y:f} {y:g}\".format(x=pi, y=pi*1e9)` formats the floating-point number `pi` in various ways:\n",
    "  - `{x:f}` displays `pi` with six decimal places.\n",
    "  - `{x:.2f}` formats `pi` to two decimal places.\n",
    "  - `{y:f}` shows `pi*1e9` with six decimal places.\n",
    "  - `{y:g}` formats `pi*1e9` in a more compact form using scientific notation."
   ]
  },
  {
   "cell_type": "code",
   "execution_count": 208,
   "metadata": {
    "id": "PB3XPZ-dbzQp"
   },
   "outputs": [
    {
     "name": "stdout",
     "output_type": "stream",
     "text": [
      "Calvin and Hobbes\n",
      "Scientific progress goes 'boink'\n"
     ]
    }
   ],
   "source": [
    "print(\"Calvin and Hobbes\\nScientific progress goes 'boink'\") # Calvin and Hobbes Scientific progress goes 'boink'"
   ]
  },
  {
   "cell_type": "code",
   "execution_count": 210,
   "metadata": {
    "id": "TIEwtGmHbzQp"
   },
   "outputs": [
    {
     "name": "stdout",
     "output_type": "stream",
     "text": [
      "3 fois 4 font 12\n"
     ]
    }
   ],
   "source": [
    "print(\"{0} fois {1} font {2}\".format(3, 4, 3*4)) # Formatting and display\n",
    "# Output: 3 fois 4 font 12\n",
    "# A small exercise in this section is to display a multiplication table."
   ]
  },
  {
   "cell_type": "code",
   "execution_count": 220,
   "metadata": {},
   "outputs": [
    {
     "name": "stdout",
     "output_type": "stream",
     "text": [
      "3.000000 9.000000\n"
     ]
    }
   ],
   "source": [
    "print(\"{x:f} {a:f}\".format(x =3, a=9))"
   ]
  },
  {
   "cell_type": "markdown",
   "metadata": {
    "id": "fj7WgHwRbzQp"
   },
   "source": [
    "**Explanation:**\n",
    "\n",
    "- **Indexed Fields**: In the example `\"{0} fois {1} font {2}\".format(3, 4, 3*4)`, the `{0}`, `{1}`, and `{2}` are positional placeholders. They are replaced by the values `3`, `4`, and `3*4` (which evaluates to `12`) respectively. This results in the output: `3 fois 4 font 12`.\n",
    "\n",
    "- **Multiplication Table Exercise**: The comment suggests a small exercise where one can display a multiplication table, which would involve iterating through numbers and formatting them into a table structure using similar formatting techniques."
   ]
  },
  {
   "cell_type": "markdown",
   "metadata": {
    "id": "bHaAow-bbzQq"
   },
   "source": [
    "In concluding this section, we mention the study of regular expressions (regex or `re`), which will not be discussed in this course. As a guide, we can say that regular expressions are extensions of the `str()` function that allow for more complex pattern-matching operations than what the `str()` functions alone can achieve."
   ]
  },
  {
   "cell_type": "markdown",
   "metadata": {
    "id": "PA23RbPDbzQq"
   },
   "source": [
    "**Practical**\n",
    "\n",
    "Explore the functions:\n",
    "\n",
    " 1. [`upper()`, `lower()`, and `capitalize()`](https://docs.python.org/3/library/stdtypes.html#str.upper)\n",
    " 2. [`find()`](https://docs.python.org/3/library/stdtypes.html#str.find)\n",
    " 3. [`replace()`](https://docs.python.org/3/library/stdtypes.html#str.replace)\n",
    " 4. [`count()`](https://docs.python.org/3/library/stdtypes.html#str.count)\n",
    " 5. [`split()`](https://docs.python.org/3/library/stdtypes.html#str.split)\n",
    " 6. [`startswith()` and `endswith()`](https://docs.python.org/3/library/stdtypes.html#str.startswith)\n",
    " 7. [`islower()` and `isupper()`](https://docs.python.org/3/library/stdtypes.html#str.islower)\n",
    " 8. [`istitle()`](https://docs.python.org/3/library/stdtypes.html#str.istitle)\n",
    " 9. [`isalpha()` and `isalnum()`](https://docs.python.org/3/library/stdtypes.html#str.isalpha)\n",
    "10.[`isdigit()`](https://docs.python.org/3/library/stdtypes.html#str.isdigit)"
   ]
  },
  {
   "cell_type": "code",
   "execution_count": 3,
   "metadata": {},
   "outputs": [
    {
     "data": {
      "text/plain": [
       "True"
      ]
     },
     "execution_count": 3,
     "metadata": {},
     "output_type": "execute_result"
    }
   ],
   "source": [
    "st= \"data\"\n",
    "st.startswith(\"da\")\n",
    "# endswith"
   ]
  },
  {
   "cell_type": "markdown",
   "metadata": {
    "id": "hgk6720lbzQq"
   },
   "source": [
    "**Note:** It is important to distinguish between a character value and an alphabetical value. An alphabetical value is always a string, whereas a string is not necessarily an alphabetical value. In Python, a character value is always enclosed in quotes (single, double, or triple), while a numeric value is expressed without quotes. There are two main types of data: numeric data and character data. It is worth noting that a numeric value enclosed in quotes is automatically treated as a character value, even if it is not alphabetical. Keeping these details in mind is crucial when handling sequences of values in Python (see the example below):\n",
    "\n",
    "```python\n",
    "x = 12 # x is a numeric variable\n",
    "y = \"12\" # y is a string formed by digits\n",
    "z = \"mon texte\" # z is a string formed by alphabetical values\n",
    "k = \"Ce stylo coûte 5 euros\" # k is a string formed by alphanumeric values\n",
    "```"
   ]
  },
  {
   "cell_type": "markdown",
   "metadata": {
    "id": "ObzqaEPEbzQq"
   },
   "source": [
    "For more details on string processing, refer to [this page](http://www.tutorialspoint.com/python/python_strings.htm)."
   ]
  },
  {
   "cell_type": "markdown",
   "metadata": {
    "id": "h3RWlVJfbzQq"
   },
   "source": [
    "## 2. File I/O\n",
    "\n",
    "File I/O (Input/Output) in Python involves reading from and writing to files. Python provides several built-in functions and methods to handle files. The primary function for file manipulation is `open()`, which allows you to open a file and returns a file object. This file object provides methods for reading and writing data. Here's a detailed overview with various examples:\n",
    "\n",
    "### Basic File Operations\n",
    "\n",
    "1. **Opening and Closing a File**\n",
    "   - To open a file, use the `open()` function. The basic syntax is `open(filename, mode)`, where `filename` is the name of the file and `mode` is the mode of operation (`'r'` for read, `'w'` for write, `'a'` for append, etc.).\n",
    "   - To close a file, use the `close()` method of the file object.\n",
    "\n",
    "   ```python\n",
    "   # Opening a file in read mode\n",
    "   file = open('example.txt', 'r')\n",
    "   # Perform operations on the file\n",
    "   file.close()\n",
    "   ```\n",
    "\n",
    "2. **Reading from a File**\n",
    "   - **Read the entire file**: `read()` method reads the entire content of the file.\n",
    "   - **Read line by line**: `readline()` method reads a single line from the file, and `readlines()` method reads all lines into a list.\n",
    "\n",
    "   ```python\n",
    "   # Read entire file\n",
    "   file = open('example.txt', 'r')\n",
    "   content = file.read()\n",
    "   print(content)\n",
    "   file.close()\n",
    "\n",
    "   # Read line by line\n",
    "   file = open('example.txt', 'r')\n",
    "   line = file.readline()\n",
    "   while line:\n",
    "       print(line, end='')\n",
    "       line = file.readline()\n",
    "   file.close()\n",
    "\n",
    "   # Read all lines into a list\n",
    "   file = open('example.txt', 'r')\n",
    "   lines = file.readlines()\n",
    "   print(lines)\n",
    "   file.close()\n",
    "   ```\n",
    "\n",
    "3. **Writing to a File**\n",
    "   - **Write a string**: `write()` method writes a string to the file.\n",
    "   - **Write multiple lines**: `writelines()` method writes a list of strings to the file.\n",
    "\n",
    "   ```python\n",
    "   # Write a string to a file\n",
    "   file = open('example.txt', 'w')\n",
    "   file.write('Hello, World!')\n",
    "   file.close()\n",
    "\n",
    "   # Write multiple lines to a file\n",
    "   lines = ['First line\\n', 'Second line\\n', 'Third line\\n']\n",
    "   file = open('example.txt', 'w')\n",
    "   file.writelines(lines)\n",
    "   file.close()\n",
    "   ```\n",
    "\n",
    "4. **Appending to a File**\n",
    "   - To append data to an existing file, open the file in append mode (`'a'`).\n",
    "\n",
    "   ```python\n",
    "   file = open('example.txt', 'a')\n",
    "   file.write('This is an appended line.\\n')\n",
    "   file.close()\n",
    "   ```\n",
    "\n",
    "5. **Using `with` Statement**\n",
    "   - The `with` statement is used for resource management. It ensures that the file is properly closed after its suite finishes, even if an exception is raised.\n",
    "\n",
    "   ```python\n",
    "   # Reading a file using with statement\n",
    "   with open('example.txt', 'r') as file:\n",
    "       content = file.read()\n",
    "       print(content)\n",
    "\n",
    "   # Writing to a file using with statement\n",
    "   with open('example.txt', 'w') as file:\n",
    "       file.write('This is a new content.')\n",
    "   ```\n",
    "\n",
    "6. **File Modes**\n",
    "   - `'r'`: Read (default mode, opens the file for reading)\n",
    "   - `'w'`: Write (creates a new file or truncates an existing file)\n",
    "   - `'a'`: Append (opens the file for appending)\n",
    "   - `'b'`: Binary (reads or writes in binary mode, e.g., `'rb'` or `'wb'`)\n",
    "   - `'t'`: Text (default mode, opens the file in text mode, e.g., `'rt'` or `'wt'`)\n",
    "\n",
    "   ```python\n",
    "   # Binary mode example\n",
    "   with open('example.jpg', 'rb') as file:\n",
    "       content = file.read()\n",
    "       # Process binary data\n",
    "   ```\n",
    "\n",
    "7. **File Positioning**\n",
    "   - `seek(offset, whence)`: Moves the file pointer to a specific position.\n",
    "   - `tell()`: Returns the current file pointer position.\n",
    "\n",
    "   ```python\n",
    "   with open('example.txt', 'r') as file:\n",
    "       file.seek(10)  # Move to the 10th byte\n",
    "       print(file.tell())  # Print the current file pointer position\n",
    "       content = file.read(20)  # Read 20 bytes from the current position\n",
    "       print(content)\n",
    "   ```\n",
    "\n",
    "8. **Working with File Paths**\n",
    "   - Use the `os` and `pathlib` modules to handle file paths.\n",
    "\n",
    "   ```python\n",
    "   import os\n",
    "   from pathlib import Path\n",
    "\n",
    "   # Get current working directory\n",
    "   print(os.getcwd())\n",
    "\n",
    "   # Join paths\n",
    "   file_path = os.path.join('folder', 'example.txt')\n",
    "\n",
    "   # Using pathlib\n",
    "   path = Path('folder') / 'example.txt'\n",
    "   ```\n",
    "\n",
    "9. **Handling File Exceptions**\n",
    "   - Use `try` and `except` blocks to handle file-related exceptions.\n",
    "\n",
    "   ```python\n",
    "   try:\n",
    "       with open('example.txt', 'r') as file:\n",
    "           content = file.read()\n",
    "   except FileNotFoundError:\n",
    "       print('File not found.')\n",
    "   except IOError:\n",
    "       print('An IOError occurred.')\n",
    "   ```\n",
    "\n",
    "These examples cover a wide range of file operations in Python. Whether you are reading from, writing to, or managing files, Python’s file I/O capabilities provide a flexible and powerful way to handle file data."
   ]
  },
  {
   "cell_type": "markdown",
   "metadata": {
    "id": "5yGfifA5bzQq"
   },
   "source": [
    "The help information for open is below:"
   ]
  },
  {
   "cell_type": "code",
   "execution_count": 222,
   "metadata": {
    "id": "aurFUpR8bzQr"
   },
   "outputs": [
    {
     "name": "stdout",
     "output_type": "stream",
     "text": [
      "Help on function open in module _io:\n",
      "\n",
      "open(file, mode='r', buffering=-1, encoding=None, errors=None, newline=None, closefd=True, opener=None)\n",
      "    Open file and return a stream.  Raise OSError upon failure.\n",
      "\n",
      "    file is either a text or byte string giving the name (and the path\n",
      "    if the file isn't in the current working directory) of the file to\n",
      "    be opened or an integer file descriptor of the file to be\n",
      "    wrapped. (If a file descriptor is given, it is closed when the\n",
      "    returned I/O object is closed, unless closefd is set to False.)\n",
      "\n",
      "    mode is an optional string that specifies the mode in which the file\n",
      "    is opened. It defaults to 'r' which means open for reading in text\n",
      "    mode.  Other common values are 'w' for writing (truncating the file if\n",
      "    it already exists), 'x' for creating and writing to a new file, and\n",
      "    'a' for appending (which on some Unix systems, means that all writes\n",
      "    append to the end of the file regardless of the current seek position).\n",
      "    In text mode, if encoding is not specified the encoding used is platform\n",
      "    dependent: locale.getencoding() is called to get the current locale encoding.\n",
      "    (For reading and writing raw bytes use binary mode and leave encoding\n",
      "    unspecified.) The available modes are:\n",
      "\n",
      "    ========= ===============================================================\n",
      "    Character Meaning\n",
      "    --------- ---------------------------------------------------------------\n",
      "    'r'       open for reading (default)\n",
      "    'w'       open for writing, truncating the file first\n",
      "    'x'       create a new file and open it for writing\n",
      "    'a'       open for writing, appending to the end of the file if it exists\n",
      "    'b'       binary mode\n",
      "    't'       text mode (default)\n",
      "    '+'       open a disk file for updating (reading and writing)\n",
      "    ========= ===============================================================\n",
      "\n",
      "    The default mode is 'rt' (open for reading text). For binary random\n",
      "    access, the mode 'w+b' opens and truncates the file to 0 bytes, while\n",
      "    'r+b' opens the file without truncation. The 'x' mode implies 'w' and\n",
      "    raises an `FileExistsError` if the file already exists.\n",
      "\n",
      "    Python distinguishes between files opened in binary and text modes,\n",
      "    even when the underlying operating system doesn't. Files opened in\n",
      "    binary mode (appending 'b' to the mode argument) return contents as\n",
      "    bytes objects without any decoding. In text mode (the default, or when\n",
      "    't' is appended to the mode argument), the contents of the file are\n",
      "    returned as strings, the bytes having been first decoded using a\n",
      "    platform-dependent encoding or using the specified encoding if given.\n",
      "\n",
      "    buffering is an optional integer used to set the buffering policy.\n",
      "    Pass 0 to switch buffering off (only allowed in binary mode), 1 to select\n",
      "    line buffering (only usable in text mode), and an integer > 1 to indicate\n",
      "    the size of a fixed-size chunk buffer.  When no buffering argument is\n",
      "    given, the default buffering policy works as follows:\n",
      "\n",
      "    * Binary files are buffered in fixed-size chunks; the size of the buffer\n",
      "      is chosen using a heuristic trying to determine the underlying device's\n",
      "      \"block size\" and falling back on `io.DEFAULT_BUFFER_SIZE`.\n",
      "      On many systems, the buffer will typically be 4096 or 8192 bytes long.\n",
      "\n",
      "    * \"Interactive\" text files (files for which isatty() returns True)\n",
      "      use line buffering.  Other text files use the policy described above\n",
      "      for binary files.\n",
      "\n",
      "    encoding is the name of the encoding used to decode or encode the\n",
      "    file. This should only be used in text mode. The default encoding is\n",
      "    platform dependent, but any encoding supported by Python can be\n",
      "    passed.  See the codecs module for the list of supported encodings.\n",
      "\n",
      "    errors is an optional string that specifies how encoding errors are to\n",
      "    be handled---this argument should not be used in binary mode. Pass\n",
      "    'strict' to raise a ValueError exception if there is an encoding error\n",
      "    (the default of None has the same effect), or pass 'ignore' to ignore\n",
      "    errors. (Note that ignoring encoding errors can lead to data loss.)\n",
      "    See the documentation for codecs.register or run 'help(codecs.Codec)'\n",
      "    for a list of the permitted encoding error strings.\n",
      "\n",
      "    newline controls how universal newlines works (it only applies to text\n",
      "    mode). It can be None, '', '\\n', '\\r', and '\\r\\n'.  It works as\n",
      "    follows:\n",
      "\n",
      "    * On input, if newline is None, universal newlines mode is\n",
      "      enabled. Lines in the input can end in '\\n', '\\r', or '\\r\\n', and\n",
      "      these are translated into '\\n' before being returned to the\n",
      "      caller. If it is '', universal newline mode is enabled, but line\n",
      "      endings are returned to the caller untranslated. If it has any of\n",
      "      the other legal values, input lines are only terminated by the given\n",
      "      string, and the line ending is returned to the caller untranslated.\n",
      "\n",
      "    * On output, if newline is None, any '\\n' characters written are\n",
      "      translated to the system default line separator, os.linesep. If\n",
      "      newline is '' or '\\n', no translation takes place. If newline is any\n",
      "      of the other legal values, any '\\n' characters written are translated\n",
      "      to the given string.\n",
      "\n",
      "    If closefd is False, the underlying file descriptor will be kept open\n",
      "    when the file is closed. This does not work when a file name is given\n",
      "    and must be True in that case.\n",
      "\n",
      "    A custom opener can be used by passing a callable as *opener*. The\n",
      "    underlying file descriptor for the file object is then obtained by\n",
      "    calling *opener* with (*file*, *flags*). *opener* must return an open\n",
      "    file descriptor (passing os.open as *opener* results in functionality\n",
      "    similar to passing None).\n",
      "\n",
      "    open() returns a file object whose type depends on the mode, and\n",
      "    through which the standard file operations such as reading and writing\n",
      "    are performed. When open() is used to open a file in a text mode ('w',\n",
      "    'r', 'wt', 'rt', etc.), it returns a TextIOWrapper. When used to open\n",
      "    a file in a binary mode, the returned class varies: in read binary\n",
      "    mode, it returns a BufferedReader; in write binary and append binary\n",
      "    modes, it returns a BufferedWriter, and in read/write mode, it returns\n",
      "    a BufferedRandom.\n",
      "\n",
      "    It is also possible to use a string or bytearray as a file for both\n",
      "    reading and writing. For strings StringIO can be used like a file\n",
      "    opened in a text mode, and for bytes a BytesIO can be used like a file\n",
      "    opened in a binary mode.\n",
      "\n"
     ]
    }
   ],
   "source": [
    "help(open)"
   ]
  },
  {
   "cell_type": "markdown",
   "metadata": {
    "id": "QinS6_ECbzQr"
   },
   "source": [
    "In the code below, I've opened a file\n",
    "that contains one line:\n",
    "\n",
    "    $ cat testfile.txt\n",
    "    abcde\n",
    "    fghij\n",
    "    aims class\n",
    "    senagal 2024\n",
    "    this is really cool\n",
    "\n",
    "Now let's open this file in Python:"
   ]
  },
  {
   "cell_type": "code",
   "execution_count": 244,
   "metadata": {},
   "outputs": [
    {
     "name": "stdout",
     "output_type": "stream",
     "text": [
      "13\n"
     ]
    }
   ],
   "source": [
    "myfile=open('text.txt','w')\n",
    "component= myfile.write('Hello, World!')"
   ]
  },
  {
   "cell_type": "code",
   "execution_count": 248,
   "metadata": {
    "id": "BR4RduysbzQr"
   },
   "outputs": [
    {
     "data": {
      "text/plain": [
       "'Hello, World!'"
      ]
     },
     "execution_count": 248,
     "metadata": {},
     "output_type": "execute_result"
    }
   ],
   "source": [
    "f = open('text.txt','r')\n",
    "f.read()"
   ]
  },
  {
   "cell_type": "code",
   "execution_count": 258,
   "metadata": {
    "id": "oiaEuH3ubzQr"
   },
   "outputs": [
    {
     "name": "stdout",
     "output_type": "stream",
     "text": [
      "\n"
     ]
    }
   ],
   "source": [
    "s = f.read(3)\n",
    "print(s)"
   ]
  },
  {
   "cell_type": "markdown",
   "metadata": {
    "id": "z02i-jOMbzQr"
   },
   "source": [
    "We read the first three characters, where each character is a byte long.\n",
    "We can see that the file handle points to the 4th byte (index number 3)\n",
    "in the file:"
   ]
  },
  {
   "cell_type": "code",
   "execution_count": 260,
   "metadata": {
    "id": "HBOlU2mEbzQr"
   },
   "outputs": [
    {
     "data": {
      "text/plain": [
       "13"
      ]
     },
     "execution_count": 260,
     "metadata": {},
     "output_type": "execute_result"
    }
   ],
   "source": [
    "f.tell()"
   ]
  },
  {
   "cell_type": "code",
   "execution_count": 262,
   "metadata": {
    "id": "DNl_-BqQbzQr"
   },
   "outputs": [
    {
     "data": {
      "text/plain": [
       "''"
      ]
     },
     "execution_count": 262,
     "metadata": {},
     "output_type": "execute_result"
    }
   ],
   "source": [
    "f.read(1)"
   ]
  },
  {
   "cell_type": "code",
   "execution_count": 264,
   "metadata": {
    "id": "8mzyH0uZbzQr"
   },
   "outputs": [],
   "source": [
    "f.close() # close the old handle"
   ]
  },
  {
   "cell_type": "code",
   "execution_count": 272,
   "metadata": {
    "id": "qu44U8D0bzQr",
    "scrolled": true
   },
   "outputs": [
    {
     "ename": "UnsupportedOperation",
     "evalue": "not readable",
     "output_type": "error",
     "traceback": [
      "\u001b[0;31m---------------------------------------------------------------------------\u001b[0m",
      "\u001b[0;31mUnsupportedOperation\u001b[0m                      Traceback (most recent call last)",
      "Cell \u001b[0;32mIn[272], line 1\u001b[0m\n\u001b[0;32m----> 1\u001b[0m myfile\u001b[38;5;241m.\u001b[39mread()\n",
      "\u001b[0;31mUnsupportedOperation\u001b[0m: not readable"
     ]
    }
   ],
   "source": [
    "myfile.read()  # can't read anymore because the file is closed."
   ]
  },
  {
   "cell_type": "markdown",
   "metadata": {
    "id": "tjW8oqbjbzQr"
   },
   "source": [
    "The file we are using is a long series of characters, but two of the characters are new line characters. If we looked at the file in sequence, it would look like \"abcdenfghijn\". Separating a file into lines is popular enough that there are two ways to read whole lines in a file. The first is to use the `readlines()` method:"
   ]
  },
  {
   "cell_type": "code",
   "execution_count": 276,
   "metadata": {
    "id": "IPvV8gFAbzQr"
   },
   "outputs": [
    {
     "name": "stdout",
     "output_type": "stream",
     "text": [
      "['Hello, World!']\n"
     ]
    }
   ],
   "source": [
    "f = open('text.txt','r')\n",
    "lines = f.readlines()\n",
    "print(lines)\n",
    "f.close()  # Always close the file when you are done with it"
   ]
  },
  {
   "cell_type": "markdown",
   "metadata": {
    "id": "4DAVVP1vbzQt"
   },
   "source": [
    "A very important point about the readline method is that it *keeps* the\n",
    "newline character at the end of each line. You can use the strip()\n",
    "method to get rid of the string.\n",
    "\n",
    "File handles are also iterable, which means we can use them in for loops\n",
    "or list extensions:"
   ]
  },
  {
   "cell_type": "code",
   "execution_count": 278,
   "metadata": {
    "id": "VfF20oSEbzQt"
   },
   "outputs": [
    {
     "name": "stdout",
     "output_type": "stream",
     "text": [
      "['Hello, World!']\n"
     ]
    }
   ],
   "source": [
    "f = open('text.txt','r')\n",
    "lines = [line.strip() for line in f]\n",
    "f.close()\n",
    "print(lines)"
   ]
  },
  {
   "cell_type": "code",
   "execution_count": 280,
   "metadata": {
    "id": "6ShNeyXYbzQt"
   },
   "outputs": [
    {
     "name": "stdout",
     "output_type": "stream",
     "text": [
      "['Hello, World!']\n"
     ]
    }
   ],
   "source": [
    "lines = []\n",
    "f = open('text.txt','r')\n",
    "for line in f:\n",
    "    lines.append(line.strip())\n",
    "f.close()\n",
    "print(lines)"
   ]
  },
  {
   "cell_type": "markdown",
   "metadata": {
    "id": "y7o6580pbzQt"
   },
   "source": [
    "These are equivalent operations. It's often best to handle a file one line at a time, particularly when the file is so large it might not fit in memory.\n",
    "\n",
    "The other half of the story is writing output to files. We'll talk about two techniques: writing to the shell and writing to files directly.\n",
    "\n",
    "If your program only creates one stream of output, it's often a good idea to write to the shell using the print function. There are several advantages to this strategy, including the fact that it allows the user to select where they want to store the output without worrying about any command line flags. You can use `\\>` to direct the output of your program to a file or use `|` to pipe it to another program.\n",
    "\n",
    "Sometimes, you need to direct your output directly to a file handle. For instance, if your program produces two output streams, you may want to assign two open file handles. Opening a file for reading simply requires changing the second option from `r` to `w` or `a`.\n",
    "\n",
    "*Caution!* Opening a file with the 'w' option means start writing *at the beginning*, which may overwrite old material. If you want to append to the file without losing what is already there, open it with 'a'.\n",
    "\n",
    "Writing to a file uses the `write()` command, which accepts a string."
   ]
  },
  {
   "cell_type": "code",
   "execution_count": 282,
   "metadata": {
    "id": "FVvhoLZIbzQt"
   },
   "outputs": [],
   "source": [
    "outfile = open('text.txt','w')\n",
    "outfile.write('This is the first line!')\n",
    "outfile.close()"
   ]
  },
  {
   "cell_type": "markdown",
   "metadata": {
    "id": "wAKDfTdubzQt"
   },
   "source": [
    "Another way to write to a file is to use `writelines()`, which accepts a\n",
    "list of strings and writes them in order. *Caution!* `writelines` does not\n",
    "append newlines. If you really want to write a newline at the end of\n",
    "each string in the list, add it yourself."
   ]
  },
  {
   "cell_type": "markdown",
   "metadata": {
    "id": "dPvqfWsvbzQt"
   },
   "source": [
    "<!--NAVIGATION-->\n",
    "<  [1. Variables et Affectations](01_Lecture01.ipynb)| [Sommaire](Index.ipynb) |  [3. Objets itérables ou conteneurs](03_Lecture03.ipynb) >\n"
   ]
  },
  {
   "cell_type": "markdown",
   "metadata": {},
   "source": [
    "# Practical_2: String and files"
   ]
  },
  {
   "cell_type": "code",
   "execution_count": null,
   "metadata": {},
   "outputs": [],
   "source": [
    "### Exercise 1:\n",
    "Create a string variable `text` and assign it the value `\"Python is amazing!\"`."
   ]
  },
  {
   "cell_type": "code",
   "execution_count": 18,
   "metadata": {},
   "outputs": [
    {
     "name": "stdout",
     "output_type": "stream",
     "text": [
      "Python is amazing\n"
     ]
    }
   ],
   "source": [
    "\n",
    "text = \"Python is amazing\"\n",
    "print(text)\n"
   ]
  },
  {
   "cell_type": "code",
   "execution_count": null,
   "metadata": {},
   "outputs": [],
   "source": [
    "### Exercise 2:\n",
    "Find the length of the string `\"Hello, World!\"` and store it in a variable `length`."
   ]
  },
  {
   "cell_type": "code",
   "execution_count": 22,
   "metadata": {},
   "outputs": [
    {
     "data": {
      "text/plain": [
       "13"
      ]
     },
     "execution_count": 22,
     "metadata": {},
     "output_type": "execute_result"
    }
   ],
   "source": [
    "\n",
    "length= \"Hello, World!\"\n",
    "len(length)"
   ]
  },
  {
   "cell_type": "code",
   "execution_count": null,
   "metadata": {},
   "outputs": [],
   "source": [
    "\n",
    "### Exercise 3:\n",
    "Convert the string `\"python programming\"` to uppercase and store it in a variable `upper_text`."
   ]
  },
  {
   "cell_type": "code",
   "execution_count": 24,
   "metadata": {},
   "outputs": [
    {
     "name": "stdout",
     "output_type": "stream",
     "text": [
      "PYTHON PROGRAMMING\n"
     ]
    }
   ],
   "source": [
    "upper_text= \"python programming\"\n",
    "print(upper_text.upper())"
   ]
  },
  {
   "cell_type": "code",
   "execution_count": null,
   "metadata": {},
   "outputs": [],
   "source": [
    "\n",
    "\n",
    "### Exercise 4:\n",
    "Extract the first 5 characters from the string `\"Artificial Intelligence\"`."
   ]
  },
  {
   "cell_type": "code",
   "execution_count": 26,
   "metadata": {},
   "outputs": [
    {
     "name": "stdout",
     "output_type": "stream",
     "text": [
      "Artif\n"
     ]
    }
   ],
   "source": [
    "str= \"Artificial Intelligence\"\n",
    "print(str[:5])\n"
   ]
  },
  {
   "cell_type": "code",
   "execution_count": null,
   "metadata": {},
   "outputs": [],
   "source": [
    "### Exercise 5:\n",
    "Concatenate the strings `\"Hello\"` and `\"World\"` with a space in between."
   ]
  },
  {
   "cell_type": "code",
   "execution_count": 28,
   "metadata": {},
   "outputs": [
    {
     "name": "stdout",
     "output_type": "stream",
     "text": [
      "Hello World\n"
     ]
    }
   ],
   "source": [
    "\n",
    "a = \"Hello\"\n",
    "b = \"World\"\n",
    "print( a + \" \" + b)"
   ]
  },
  {
   "cell_type": "code",
   "execution_count": null,
   "metadata": {},
   "outputs": [],
   "source": [
    "\n",
    "### Exercise 6:\n",
    "Replace the word `\"dog\"` with `\"cat\"` in the string `\"The quick brown dog jumps over the lazy dog.\"`."
   ]
  },
  {
   "cell_type": "code",
   "execution_count": 30,
   "metadata": {},
   "outputs": [
    {
     "name": "stdout",
     "output_type": "stream",
     "text": [
      "The quick brown cat jumps over the lazy cat.\n"
     ]
    }
   ],
   "source": [
    "str2= \"The quick brown dog jumps over the lazy dog.\"\n",
    "print(str2.replace(\"dog\", \"cat\"))"
   ]
  },
  {
   "cell_type": "code",
   "execution_count": null,
   "metadata": {},
   "outputs": [],
   "source": [
    "---\n",
    "\n",
    "### Exercise 7:\n",
    "Split the string `\"apple,banana,orange\"` by commas and store the result in a list `fruits_list`."
   ]
  },
  {
   "cell_type": "code",
   "execution_count": 34,
   "metadata": {},
   "outputs": [
    {
     "name": "stdout",
     "output_type": "stream",
     "text": [
      "['apple', 'banana', 'orange']\n"
     ]
    }
   ],
   "source": [
    "fruits= \"apple,banana,orange\"\n",
    "fruits_list = fruits.split(\",\")\n",
    "print(fruits_list)\n"
   ]
  },
  {
   "cell_type": "code",
   "execution_count": null,
   "metadata": {},
   "outputs": [],
   "source": [
    "---\n",
    "\n",
    "### Exercise 8:\n",
    "Use string formatting to create the sentence `\"My name is Alice and I am 25 years old.\"`, where the name and age are variables."
   ]
  },
  {
   "cell_type": "code",
   "execution_count": 36,
   "metadata": {},
   "outputs": [
    {
     "name": "stdout",
     "output_type": "stream",
     "text": [
      "My name is Alice and I am 25 years old.\n"
     ]
    }
   ],
   "source": [
    "\n",
    "print(\"My name is {} and I am {} years old.\".format('Alice', 25))"
   ]
  },
  {
   "cell_type": "code",
   "execution_count": null,
   "metadata": {},
   "outputs": [],
   "source": [
    "---\n",
    "\n",
    "### Exercise 9:\n",
    "Check if the string `\"python\"` is present in the sentence `\"I love python programming\"`.\n",
    "\n",
    "```python\n",
    "str3 = \"I love python programming\"\n",
    "print(\"python\" in str3)\n",
    "```"
   ]
  },
  {
   "cell_type": "code",
   "execution_count": null,
   "metadata": {},
   "outputs": [],
   "source": [
    "---\n",
    "\n",
    "### Exercise 10:\n",
    "Count the number of occurrences of the letter `\"e\"` in the string `\"Elephant is an elegant animal\"`."
   ]
  },
  {
   "cell_type": "code",
   "execution_count": 38,
   "metadata": {},
   "outputs": [
    {
     "name": "stdout",
     "output_type": "stream",
     "text": [
      "3\n"
     ]
    }
   ],
   "source": [
    "\n",
    "string = \"Elephant is an elegant animal\"\n",
    "print(string.count(\"e\"))"
   ]
  },
  {
   "cell_type": "code",
   "execution_count": null,
   "metadata": {},
   "outputs": [],
   "source": [
    "---\n",
    "\n",
    "### Exercise 11:\n",
    "Remove any leading and trailing spaces from the string `\"   Data Science   \"`."
   ]
  },
  {
   "cell_type": "code",
   "execution_count": 40,
   "metadata": {},
   "outputs": [
    {
     "name": "stdout",
     "output_type": "stream",
     "text": [
      "Data Science\n"
     ]
    }
   ],
   "source": [
    "\n",
    "string = \"   Data Science   \"\n",
    "print(string.strip())"
   ]
  },
  {
   "cell_type": "code",
   "execution_count": null,
   "metadata": {},
   "outputs": [],
   "source": [
    "---\n",
    "\n",
    "### Exercise 12:\n",
    "Convert the string `\"100\"` into an integer and store it in a variable `int_value`."
   ]
  },
  {
   "cell_type": "code",
   "execution_count": 42,
   "metadata": {},
   "outputs": [
    {
     "name": "stdout",
     "output_type": "stream",
     "text": [
      "100 <class 'int'>\n"
     ]
    }
   ],
   "source": [
    "\n",
    " a= \"100\"\n",
    " int_value = int(a)\n",
    " print(int_value, type(int_value))"
   ]
  },
  {
   "cell_type": "code",
   "execution_count": null,
   "metadata": {},
   "outputs": [],
   "source": [
    "---\n",
    "\n",
    "### Exercise 13:\n",
    "Extract the substring `\"pro\"` from the string `\"programming\"`."
   ]
  },
  {
   "cell_type": "code",
   "execution_count": 44,
   "metadata": {},
   "outputs": [
    {
     "name": "stdout",
     "output_type": "stream",
     "text": [
      "pro\n"
     ]
    }
   ],
   "source": [
    "\n",
    "p = \"programming\"\n",
    "print(p[:3])"
   ]
  },
  {
   "cell_type": "code",
   "execution_count": null,
   "metadata": {},
   "outputs": [],
   "source": [
    "---\n",
    "\n",
    "### Exercise 14:\n",
    "Check if the string `\"data\"` starts with `\"da\"` and ends with `\"ta\"`."
   ]
  },
  {
   "cell_type": "code",
   "execution_count": 46,
   "metadata": {},
   "outputs": [
    {
     "name": "stdout",
     "output_type": "stream",
     "text": [
      "True\n",
      "True\n"
     ]
    }
   ],
   "source": [
    "\n",
    "st = \"data\"\n",
    "print(st.startswith(\"data\"))\n",
    "print(st.endswith(\"ta\"))"
   ]
  },
  {
   "cell_type": "code",
   "execution_count": null,
   "metadata": {},
   "outputs": [],
   "source": [
    "---\n",
    "\n",
    "### Exercise 15:\n",
    "Reverse the string `\"machine learning\"` and store the result in `reversed_text`."
   ]
  },
  {
   "cell_type": "code",
   "execution_count": 48,
   "metadata": {},
   "outputs": [
    {
     "name": "stdout",
     "output_type": "stream",
     "text": [
      "gninrael enihcam\n"
     ]
    }
   ],
   "source": [
    "\n",
    "str4 = \"machine learning\"\n",
    "print(str4[::-1])"
   ]
  },
  {
   "cell_type": "code",
   "execution_count": null,
   "metadata": {},
   "outputs": [],
   "source": [
    "---\n",
    "\n",
    "### Exercise 16:\n",
    "Convert the first letter of each word in the string `\"machine learning is fun\"` to uppercase."
   ]
  },
  {
   "cell_type": "code",
   "execution_count": 58,
   "metadata": {},
   "outputs": [
    {
     "name": "stdout",
     "output_type": "stream",
     "text": [
      "Machine Learning Is Fun\n"
     ]
    }
   ],
   "source": [
    "\n",
    "str5 = \"machine learning is fun\"\n",
    "print(str5.title())"
   ]
  },
  {
   "cell_type": "code",
   "execution_count": null,
   "metadata": {},
   "outputs": [],
   "source": []
  }
 ],
 "metadata": {
  "colab": {
   "include_colab_link": true,
   "provenance": []
  },
  "kernelspec": {
   "display_name": "Python 3 (ipykernel)",
   "language": "python",
   "name": "python3"
  },
  "language_info": {
   "codemirror_mode": {
    "name": "ipython",
    "version": 3
   },
   "file_extension": ".py",
   "mimetype": "text/x-python",
   "name": "python",
   "nbconvert_exporter": "python",
   "pygments_lexer": "ipython3",
   "version": "3.12.4"
  }
 },
 "nbformat": 4,
 "nbformat_minor": 4
}
