{
 "cells": [
  {
   "cell_type": "markdown",
   "metadata": {
    "id": "sm-kMbirqqyt"
   },
   "source": [
    "# PyPro: challenge 1 \n",
    "\n",
    "### This challenge is due on Sunday 29th September 2024 at 8pm.\n",
    "\n",
    "`These exercises provide a wide range of challenges that test your understanding of Python's core concepts, such as control structures, data types, string manipulations, list comprehensions, and higher-order functions.`"
   ]
  },
  {
   "cell_type": "markdown",
   "metadata": {
    "id": "sm-kMbirqqyt"
   },
   "source": [
    "#### Basic Tasks"
   ]
  },
  {
   "cell_type": "markdown",
   "metadata": {
    "id": "sm-kMbirqqyt"
   },
   "source": [
    "1. Create a function `find_max()` that accepts two numeric inputs and returns the greater value. Avoid using the built-in `max()` function."
   ]
  },
  {
   "cell_type": "code",
   "execution_count": 23,
   "metadata": {},
   "outputs": [
    {
     "name": "stdin",
     "output_type": "stream",
     "text": [
      "Enter your first value: 80\n",
      "Enter your second value: 7\n"
     ]
    },
    {
     "name": "stdout",
     "output_type": "stream",
     "text": [
      "80 is greater than 7\n"
     ]
    }
   ],
   "source": [
    "def find_max():\n",
    "    ''' \n",
    "    This function will accept two numeric inputs and return which one is greater.\n",
    "    \n",
    "    '''\n",
    "    a = int(input(\"Enter your first value:\"))\n",
    "    b = int(input(\"Enter your second value:\"))\n",
    "    if a>b:\n",
    "        print(a, 'is greater than', b)\n",
    "    else:\n",
    "        print(b ,'is greater than', a)\n",
    "find_max()"
   ]
  },
  {
   "cell_type": "code",
   "execution_count": 15,
   "metadata": {},
   "outputs": [
    {
     "name": "stdout",
     "output_type": "stream",
     "text": [
      " \n",
      "    This function will accept two numeric inputs and return which one is greater.\n",
      "    \n",
      "    \n"
     ]
    }
   ],
   "source": [
    "print(find_max.__doc__)"
   ]
  },
  {
   "cell_type": "markdown",
   "metadata": {
    "id": "sm-kMbirqqyt"
   },
   "source": [
    "2. Develop a function `find_max_of_three()` to find the maximum among three given numbers."
   ]
  },
  {
   "cell_type": "code",
   "execution_count": 51,
   "metadata": {},
   "outputs": [
    {
     "name": "stdin",
     "output_type": "stream",
     "text": [
      "Enter your first value: 34\n",
      "Enter your second value: 89\n",
      "Enter your third value: 45\n"
     ]
    },
    {
     "name": "stdout",
     "output_type": "stream",
     "text": [
      "89 is your maximum number\n"
     ]
    }
   ],
   "source": [
    "def find_max_of_three():\n",
    "    '''\n",
    "    This function is programmed so that it will find the maximum among the three given numbers.\n",
    "    '''\n",
    "    a = int(input(\"Enter your first value:\"))\n",
    "    b = int(input(\"Enter your second value:\"))\n",
    "    c = int(input(\"Enter your third value:\"))\n",
    "    if a>b and a>c:\n",
    "        print(a,'is your maximum number')\n",
    "    elif b>a and b>c:\n",
    "        print(b,'is your maximum number')\n",
    "    else:\n",
    "        print(c,'is your maximum number')\n",
    "find_max_of_three()\n",
    "   "
   ]
  },
  {
   "cell_type": "markdown",
   "metadata": {
    "id": "sm-kMbirqqyt"
   },
   "source": [
    "3. Write a function to manually calculate the length of a given list or string without using `len()`."
   ]
  },
  {
   "cell_type": "code",
   "execution_count": 47,
   "metadata": {},
   "outputs": [
    {
     "name": "stdout",
     "output_type": "stream",
     "text": [
      "1\n",
      "2\n",
      "3\n",
      "4\n"
     ]
    }
   ],
   "source": [
    "def func_len():\n",
    "    '''\n",
    "    This function manually calculate the length of a given list or string.\n",
    "    '''\n",
    "    mylist = [2,3,4,9]\n",
    "    sum = 0\n",
    "    for i in mylist:\n",
    "        sum +=1\n",
    "        print(sum)\n",
    "func_len()"
   ]
  },
  {
   "cell_type": "markdown",
   "metadata": {
    "id": "sm-kMbirqqyt"
   },
   "source": [
    "4. Implement a function that checks if a given character is a vowel (a, e, i, o, u)."
   ]
  },
  {
   "cell_type": "code",
   "execution_count": 5,
   "metadata": {},
   "outputs": [
    {
     "name": "stdin",
     "output_type": "stream",
     "text": [
      "Enter any alphabetic: g\n"
     ]
    },
    {
     "name": "stdout",
     "output_type": "stream",
     "text": [
      "It is not a vowel\n"
     ]
    }
   ],
   "source": [
    "def func_vowel(x):\n",
    "    vowels = ['a','i','u','o','e']\n",
    "    if x in vowels:\n",
    "        print(\"It's a vowel\")\n",
    "    else:\n",
    "        print('It is not a vowel')\n",
    "user = input('Enter any alphabetic:')\n",
    "func_vowel(user)"
   ]
  },
  {
   "cell_type": "markdown",
   "metadata": {
    "id": "sm-kMbirqqyt"
   },
   "source": [
    "5. Write a function `encode()` that converts a string into \"rövarspråket\" ([robber's language](https://en.wikipedia.org/wiki/R%C3%B6varspr%C3%A5ket)) by doubling consonants and placing \"o\" in between, e.g., \"hello\" -> \"hohelollolo\"."
   ]
  },
  {
   "cell_type": "code",
   "execution_count": null,
   "metadata": {},
   "outputs": [],
   "source": [
    "# def encode():\n",
    "#     mystring = \"hello\"\n",
    "#     for x in mystring:\n",
    "#         if i"
   ]
  },
  {
   "cell_type": "markdown",
   "metadata": {
    "id": "sm-kMbirqqyt"
   },
   "source": [
    "6. Create `sum_elements()` and `product_elements()` functions to sum and multiply all elements in a list, respectively."
   ]
  },
  {
   "cell_type": "code",
   "execution_count": 7,
   "metadata": {},
   "outputs": [
    {
     "name": "stdout",
     "output_type": "stream",
     "text": [
      "2\n",
      "6\n",
      "12\n",
      "19\n",
      "27\n"
     ]
    }
   ],
   "source": [
    "def sum_elements():\n",
    "    l = [2,4,6,7,8]\n",
    "    sum = 0\n",
    "    for i in l:\n",
    "        sum += i\n",
    "        print(sum)\n",
    "sum_elements()"
   ]
  },
  {
   "cell_type": "code",
   "execution_count": 11,
   "metadata": {},
   "outputs": [
    {
     "name": "stdout",
     "output_type": "stream",
     "text": [
      "2\n",
      "8\n",
      "48\n",
      "336\n",
      "2688\n"
     ]
    }
   ],
   "source": [
    "def product_elements():\n",
    "    l = [2,4,6,7,8]\n",
    "    pro = 1\n",
    "    for i in l:\n",
    "        pro *= i\n",
    "        print(pro)\n",
    "product_elements()"
   ]
  },
  {
   "cell_type": "markdown",
   "metadata": {
    "id": "sm-kMbirqqyt"
   },
   "source": [
    "7. Define a function `reverse_string()` to reverse the characters in a given string."
   ]
  },
  {
   "cell_type": "code",
   "execution_count": 19,
   "metadata": {},
   "outputs": [
    {
     "data": {
      "text/plain": [
       "'aniraM'"
      ]
     },
     "execution_count": 19,
     "metadata": {},
     "output_type": "execute_result"
    }
   ],
   "source": [
    "def reverse_string(s):\n",
    "    '''\n",
    "    This is a function programmed manually to reverse the characters in a given string.\n",
    "    '''\n",
    "    return s[::-1]\n",
    "reverse_string(\"Marina\")"
   ]
  },
  {
   "cell_type": "markdown",
   "metadata": {
    "id": "sm-kMbirqqyt"
   },
   "source": [
    "8. Implement `check_palindrome()` to verify if a string reads the same forwards and backwards, i.e. is a [palindrome](https://en.wikipedia.org/wiki/Palindrome)."
   ]
  },
  {
   "cell_type": "markdown",
   "metadata": {
    "id": "sm-kMbirqqyt"
   },
   "source": [
    "9. Develop a function `check_membership()` to determine if a value exists within a list."
   ]
  },
  {
   "cell_type": "markdown",
   "metadata": {
    "id": "sm-kMbirqqyt"
   },
   "source": [
    "10. Write `check_overlap()` to identify if two lists share any elements."
   ]
  },
  {
   "cell_type": "markdown",
   "metadata": {
    "id": "sm-kMbirqqyt"
   },
   "source": [
    "11. Implement `repeat_char()` that generates a string with a specified character repeated `n` times."
   ]
  },
  {
   "cell_type": "markdown",
   "metadata": {
    "id": "sm-kMbirqqyt"
   },
   "source": [
    "12. Create a function `print_histogram()` that takes a list of integers and prints a corresponding histogram."
   ]
  },
  {
   "cell_type": "markdown",
   "metadata": {
    "id": "sm-kMbirqqyt"
   },
   "source": [
    "13. Write `find_max_in_list()` to identify the largest number in a list of arbitrary length."
   ]
  },
  {
   "cell_type": "markdown",
   "metadata": {
    "id": "sm-kMbirqqyt"
   },
   "source": [
    "14. Create a program that maps each word in a list to its length."
   ]
  },
  {
   "cell_type": "markdown",
   "metadata": {
    "id": "sm-kMbirqqyt"
   },
   "source": [
    "15. Implement `longest_word()` to find the longest word in a list."
   ]
  },
  {
   "cell_type": "markdown",
   "metadata": {
    "id": "sm-kMbirqqyt"
   },
   "source": [
    "16. Develop `filter_words()` to return words longer than a specified length from a list."
   ]
  },
  {
   "cell_type": "markdown",
   "metadata": {
    "id": "sm-kMbirqqyt"
   },
   "source": [
    "17. Enhance the palindrome recognizer to handle phrases, ignoring spaces, punctuation, and case."
   ]
  },
  {
   "cell_type": "markdown",
   "metadata": {
    "id": "sm-kMbirqqyt"
   },
   "source": [
    "18. Implement a function that checks if a given sentence is a [pangram](https://en.wikipedia.org/wiki/Pangram)."
   ]
  },
  {
   "cell_type": "markdown",
   "metadata": {
    "id": "sm-kMbirqqyt"
   },
   "source": [
    "19. Write a function that generates verses for the \"99 Bottles of Beer\" song."
   ]
  },
  {
   "cell_type": "markdown",
   "metadata": {
    "id": "sm-kMbirqqyt"
   },
   "source": [
    "20. Create a translation function using a small dictionary to translate English words into French/."
   ]
  },
  {
   "cell_type": "markdown",
   "metadata": {
    "id": "sm-kMbirqqyt"
   },
   "source": [
    "21. Develop `char_frequency()` to build a dictionary of character frequencies in a string."
   ]
  },
  {
   "cell_type": "markdown",
   "metadata": {
    "id": "sm-kMbirqqyt"
   },
   "source": [
    "22. Implement a [Caesar cipher encoder/decoder using a shift of 13 (ROT-13)](https://en.wikipedia.org/wiki/ROT13).\n",
    "\n",
    "23. Create `fix_spaces()` to correct multiple spaces and missing spaces after periods in a text.\n",
    "\n",
    "24. Write `convert_to_third_person()` to transform verbs into their third person singular form.\n",
    "\n",
    "25. Implement `make_ing_form()` to convert verbs into their present participle form using heuristic rules."
   ]
  },
  {
   "cell_type": "markdown",
   "metadata": {
    "id": "sm-kMbirqqyt"
   },
   "source": [
    "#### Higher-Order Functions and List Comprehensions\n",
    "\n",
    "26. Use `reduce()` to write `max_in_list()` that returns the largest number in a list.\n",
    "\n",
    "27. Write a program that maps words to their lengths using a for-loop, `map()`, and list comprehensions.\n",
    "\n",
    "28. Implement `find_longest_word()` using only higher-order functions.\n",
    "\n",
    "29. Use `filter()` to write `filter_long_words()` that filters words longer than `n`.\n",
    "\n",
    "30. Create `translate_with_map()` to translate English words to French using `map()`.\n",
    "\n",
    "31. Re-implement the higher-order functions `map()`, `filter()`, and `reduce()` from scratch."
   ]
  },
  {
   "cell_type": "markdown",
   "metadata": {
    "id": "sm-kMbirqqyt"
   },
   "source": [
    "#### Simple Tasks with I/O\n",
    "\n",
    "32. Write a palindrome recognizer that reads lines from a file and prints only the palindromes.\n",
    "\n",
    "33. Implement a [semordnilap](https://en.wiktionary.org/wiki/semordnilap) recognizer that finds word pairs from a file where each word is the reverse of the other.\n",
    "\n",
    "34. Create `char_frequency_table()` to display a sorted character frequency table from a file.\n",
    "\n",
    "35. Write a function `speak_ICAO()` that translates text into the [ICAO phonetic alphabet](https://en.wikipedia.org/wiki/NATO_phonetic_alphabet).\n",
    "\n",
    "36. Implement `find_hapaxes()` to identify words that occur only once in a text file.\n",
    "\n",
    "37. Write a program that numbers each line in a text file.\n",
    "\n",
    "38. Calculate the average word length in a text file.\n",
    "\n",
    "39. Implement a number-guessing game where the user guesses a number between 1 and 20.\n",
    "\n",
    "40. Write a program that presents an [anagram](https://en.wikipedia.org/wiki/Anagram) of a randomly chosen word and allows the user to guess the original.\n",
    "\n",
    "41. Create a [Lingo game](https://en.wikipedia.org/wiki/Lingo_(American_game_show)) where players guess a hidden word, receiving clues about correct and misplaced characters."
   ]
  },
  {
   "cell_type": "markdown",
   "metadata": {
    "id": "sm-kMbirqqyt"
   },
   "source": [
    "#### Advanced Tasks\n",
    "\n",
    "42. Develop a sentence splitter that separates a text into sentences based on various heuristics.\n",
    "\n",
    "43. Write a program to find the largest group of anagrams in a given word list.\n",
    "\n",
    "44. Generate a string of balanced brackets and verify if it is balanced.\n",
    "\n",
    "45. Create a word chain game where each word starts with the last letter of the previous one, using a list of [Pokemon names](https://en.wikipedia.org/wiki/List_of_Pok%C3%A9mon)."
   ]
  }
 ],
 "metadata": {
  "colab": {
   "provenance": []
  },
  "kernelspec": {
   "display_name": "Python 3 (ipykernel)",
   "language": "python",
   "name": "python3"
  },
  "language_info": {
   "codemirror_mode": {
    "name": "ipython",
    "version": 3
   },
   "file_extension": ".py",
   "mimetype": "text/x-python",
   "name": "python",
   "nbconvert_exporter": "python",
   "pygments_lexer": "ipython3",
   "version": "3.12.4"
  }
 },
 "nbformat": 4,
 "nbformat_minor": 4
}
