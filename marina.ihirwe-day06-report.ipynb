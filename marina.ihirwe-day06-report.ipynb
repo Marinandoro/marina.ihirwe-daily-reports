{
 "cells": [
  {
   "cell_type": "markdown",
   "id": "61a720fa-5ee7-4116-a8d8-55e581a8d98f",
   "metadata": {},
   "source": [
    "# Python exercise"
   ]
  },
  {
   "cell_type": "markdown",
   "id": "40426e47-3db3-49d6-afef-9f07b497c832",
   "metadata": {},
   "source": [
    "## 1.a "
   ]
  },
  {
   "cell_type": "code",
   "execution_count": 21,
   "id": "48e01de2-ed45-43a5-9d71-c7cb92768b96",
   "metadata": {},
   "outputs": [
    {
     "name": "stdin",
     "output_type": "stream",
     "text": [
      "Enter your value: 4\n"
     ]
    },
    {
     "name": "stdout",
     "output_type": "stream",
     "text": [
      "The summation is equal to: 10\n"
     ]
    }
   ],
   "source": [
    " def func_odd(n):\n",
    "    sum = 0\n",
    "    for i in range(0, n):\n",
    "        if i % 2 != 0:\n",
    "           sum += i + 3\n",
    "    return sum\n",
    "user_choice = int(input(\"Enter your value:\"))\n",
    "print(\"The summation is equal to:\" ,func_odd(user_choice))"
   ]
  },
  {
   "cell_type": "code",
   "execution_count": 47,
   "id": "85a96e82-ad9a-460d-b588-5b52080906b5",
   "metadata": {},
   "outputs": [
    {
     "name": "stdin",
     "output_type": "stream",
     "text": [
      "Enter your value: 4\n"
     ]
    },
    {
     "name": "stdout",
     "output_type": "stream",
     "text": [
      "10\n"
     ]
    }
   ],
   "source": [
    "user_choice = int(input(\"Enter your value:\"))\n",
    "sum = 0\n",
    "for i in range(0, user_choice):\n",
    "    if i % 2 != 0:\n",
    "        sum += i + 3\n",
    "print(sum)"
   ]
  },
  {
   "cell_type": "markdown",
   "id": "2e0e661f-339a-4340-998c-73508bff4584",
   "metadata": {},
   "source": [
    "## 1.b"
   ]
  },
  {
   "cell_type": "code",
   "execution_count": 53,
   "id": "8ba2bc44-511f-4d01-bbcf-099257fdbd52",
   "metadata": {},
   "outputs": [
    {
     "name": "stdin",
     "output_type": "stream",
     "text": [
      "Enter your value: 6\n"
     ]
    },
    {
     "name": "stdout",
     "output_type": "stream",
     "text": [
      "The product is equal to: 105\n"
     ]
    }
   ],
   "source": [
    "def func_even(n):\n",
    "    product = 1\n",
    "    for i in range(0, n):\n",
    "        if i % 2 == 0:\n",
    "           product *= (i + 3)\n",
    "    return product\n",
    "user_choice = int(input(\"Enter your value:\"))\n",
    "\n",
    "print(\"The product is equal to:\",func_even(user_choice))"
   ]
  },
  {
   "cell_type": "code",
   "execution_count": 43,
   "id": "a4bcb0fd-0b37-4cfe-a831-9fff7e07d900",
   "metadata": {},
   "outputs": [
    {
     "name": "stdin",
     "output_type": "stream",
     "text": [
      "Enter your value: 6\n"
     ]
    },
    {
     "name": "stdout",
     "output_type": "stream",
     "text": [
      "The product is equal to: 105\n"
     ]
    }
   ],
   "source": [
    "user_choice = int(input(\"Enter your value:\"))\n",
    "product = 1\n",
    "for i in range(0, user_choice):\n",
    "    if i % 2 == 0:\n",
    "        product *= (i + 3)\n",
    "print(\"The product is equal to:\",product)"
   ]
  },
  {
   "cell_type": "markdown",
   "id": "e5fe1a3a-d1d4-43c3-8666-bbb6bc60af7a",
   "metadata": {},
   "source": [
    "### 2. Write a program that reads the number of the day of the week (from 0 to 6). If it is a working day, then the program will write the name of the corresponding day. Otherwise, it will write the word \"Weekend\"."
   ]
  },
  {
   "cell_type": "code",
   "execution_count": 71,
   "id": "5fd32135-20cf-4a7b-8eaf-512966008f53",
   "metadata": {},
   "outputs": [
    {
     "name": "stdin",
     "output_type": "stream",
     "text": [
      "Enter the number of the day from 0 up to 6: 0\n"
     ]
    },
    {
     "name": "stdout",
     "output_type": "stream",
     "text": [
      "Weekend\n"
     ]
    }
   ],
   "source": [
    "guest = int(input(\"Enter the number of the day from 0 up to 6:\"))\n",
    "if guest == 5:\n",
    "    print(\"Friday\")\n",
    "elif guest == 1:\n",
    "    print(\"Monday\")\n",
    "elif guest == 2:\n",
    "    print(\"Tuesday\")\n",
    "elif guest == 3:\n",
    "    print(\"Wednesday\")\n",
    "elif guest == 4:\n",
    "    print(\"Thursday\")\n",
    "else:\n",
    "    print(\"Weekend\")\n",
    "    "
   ]
  },
  {
   "cell_type": "markdown",
   "id": "2fddbcd5-2f7c-4536-8943-017472f4b6f8",
   "metadata": {},
   "source": [
    "### 3. Make a program that, given a month number (from 0 to 11), indicates how many days it has (28, 30 or 31), ignoring the leap years."
   ]
  },
  {
   "cell_type": "code",
   "execution_count": 77,
   "id": "980e998e-0be6-42c7-b4c0-b08bcbece3a0",
   "metadata": {},
   "outputs": [
    {
     "name": "stdin",
     "output_type": "stream",
     "text": [
      "Enter your month: 2\n"
     ]
    },
    {
     "name": "stdout",
     "output_type": "stream",
     "text": [
      "Your month has 28 days\n"
     ]
    }
   ],
   "source": [
    "guest = int(input(\"Enter your month:\"))\n",
    "\n",
    "if guest in [1,5,7,8,10,0]:\n",
    "    print(\"Your month has 31 days\")\n",
    "elif guest in [3,6,9,11,4]:\n",
    "    print(\"Your month has 30 days\")\n",
    "else:\n",
    "    print(\"Your month has 28 days\")"
   ]
  },
  {
   "cell_type": "markdown",
   "id": "a94a325b-345a-41a7-903f-d1a911f1693c",
   "metadata": {},
   "source": [
    "### 4. Write two versions of python code that displays your name 3 times. One version with a \"for loop\" and another version with a \"while loop\"."
   ]
  },
  {
   "cell_type": "code",
   "execution_count": 141,
   "id": "9e26082a-10b2-40d5-a4a5-c3e3aa3d3762",
   "metadata": {},
   "outputs": [
    {
     "name": "stdin",
     "output_type": "stream",
     "text": [
      "Enter your name here: Marina\n"
     ]
    },
    {
     "name": "stdout",
     "output_type": "stream",
     "text": [
      "Marina\n",
      "Marina\n",
      "Marina\n"
     ]
    }
   ],
   "source": [
    "user_name = input(\"Enter your name here:\")\n",
    "for i in range(3):\n",
    "    print(user_name)"
   ]
  },
  {
   "cell_type": "code",
   "execution_count": 104,
   "id": "d93e031c-e5ec-4922-91fe-ba3730dc0da4",
   "metadata": {},
   "outputs": [
    {
     "name": "stdin",
     "output_type": "stream",
     "text": [
      "Enter your name here: Marina\n"
     ]
    },
    {
     "name": "stdout",
     "output_type": "stream",
     "text": [
      "Marina\n",
      "Marina\n",
      "Marina\n"
     ]
    }
   ],
   "source": [
    "user_name = input(\"Enter your name here:\")\n",
    "i = 1\n",
    "while i < 4:\n",
    "    print(user_name)\n",
    "    i += 1"
   ]
  },
  {
   "cell_type": "markdown",
   "id": "b710221c-7e4e-4304-b00b-f80e9fc0f71c",
   "metadata": {},
   "source": [
    "### 5. Given two numbers a0 and a1, the Fibonacci sequence they generate is constructed from the recursion formula an+1 = an + an−1. Calculate the first 15 terms of a Fibonacci sequence, asking the user the initial values."
   ]
  },
  {
   "cell_type": "code",
   "execution_count": 147,
   "id": "6cc71417-9c81-4a13-a778-5177b3ddfa0e",
   "metadata": {},
   "outputs": [
    {
     "name": "stdin",
     "output_type": "stream",
     "text": [
      "Enter your initial value: a_0 = 1\n",
      "Enter your a_1: 2\n"
     ]
    },
    {
     "name": "stdout",
     "output_type": "stream",
     "text": [
      "1\n",
      "2\n",
      "3\n",
      "5\n",
      "8\n",
      "13\n",
      "21\n",
      "34\n",
      "55\n",
      "89\n",
      "144\n",
      "233\n",
      "377\n",
      "610\n",
      "987\n"
     ]
    }
   ],
   "source": [
    "guest1 = int(input(\"Enter your initial value: a_0 =\"))\n",
    "guest2 = int(input(\"Enter your a_1:\"))\n",
    "print(guest1)\n",
    "print(guest2)\n",
    "for i in range(2,15):\n",
    "    guest3 = guest2 + guest1\n",
    "    guest1 = guest2\n",
    "    guest2 = guest3\n",
    "    print(guest2)\n",
    "    "
   ]
  },
  {
   "cell_type": "markdown",
   "id": "4d0d1e32-02b3-4016-93a9-9280862abe4d",
   "metadata": {},
   "source": [
    "### 6. Compute the first 30 terms of the sequence defined by 2xn+2 − xn+1 − 6xn = 0 sequence, given any two initial values x0 and x1"
   ]
  },
  {
   "cell_type": "code",
   "execution_count": 151,
   "id": "9924a0d5-aca5-492b-be91-af9d1a2d30b3",
   "metadata": {},
   "outputs": [
    {
     "name": "stdin",
     "output_type": "stream",
     "text": [
      "Enter first value: 2\n",
      "Enter second value: 3\n"
     ]
    },
    {
     "name": "stdout",
     "output_type": "stream",
     "text": [
      "2\n",
      "3\n",
      "7.5\n",
      "12.75\n",
      "28.875\n",
      "52.6875\n",
      "112.96875\n",
      "214.546875\n",
      "446.1796875\n",
      "866.73046875\n",
      "1771.904296875\n",
      "3486.1435546875\n",
      "7058.78466796875\n",
      "13987.822998046875\n",
      "28170.265502929688\n",
      "56048.60174560547\n",
      "112535.0973815918\n",
      "224413.3539276123\n",
      "449811.96910858154\n",
      "898146.0463371277\n",
      "1798508.9304943085\n",
      "3593692.6042585373\n",
      "7192373.093612194\n",
      "14377264.359581709\n",
      "28765751.460627437\n",
      "57514668.809058845\n",
      "115054588.78641173\n",
      "230071300.82038242\n",
      "460199416.76942635\n",
      "920313610.8458605\n"
     ]
    }
   ],
   "source": [
    "init1 = int(input(\"Enter first value:\"))\n",
    "init2 = int(input(\"Enter second value:\"))\n",
    "print(init1)\n",
    "print(init2)\n",
    "for i in range(2,30):\n",
    "    init3 = (0.5*init2) + (3*init1)\n",
    "    print(init3)\n",
    "    init1 = init2\n",
    "    init2 = init3"
   ]
  },
  {
   "cell_type": "markdown",
   "id": "e846c8c1-136f-439e-bbe1-10f62888e2ec",
   "metadata": {},
   "source": [
    "### 7. a) Write python code to determine whether or not a year is a leap year. Be sure you know what a leap year is. b) Write the code using only logical operators, i.e. no conditional branching."
   ]
  },
  {
   "cell_type": "code",
   "execution_count": 160,
   "id": "5c3e6f69-3ba0-49b3-9d7f-6c4cf7b2289a",
   "metadata": {},
   "outputs": [
    {
     "name": "stdin",
     "output_type": "stream",
     "text": [
      "Enter your year: 2024\n"
     ]
    },
    {
     "name": "stdout",
     "output_type": "stream",
     "text": [
      "Leap Year\n"
     ]
    }
   ],
   "source": [
    "import calendar\n",
    "user = int(input(\"Enter your year:\"))\n",
    "\n",
    "if calendar.isleap(user): \n",
    "    print(\"Leap Year\") \n",
    "else: \n",
    "    print(\"It's a not leap Year\") \n",
    "       "
   ]
  },
  {
   "cell_type": "code",
   "execution_count": 168,
   "id": "b9dabee3-aa7d-4f6d-b4e8-25e77e82330d",
   "metadata": {},
   "outputs": [
    {
     "name": "stdin",
     "output_type": "stream",
     "text": [
      "Enter your year: 2024\n"
     ]
    },
    {
     "name": "stdout",
     "output_type": "stream",
     "text": [
      "2024 is a leap year\n"
     ]
    }
   ],
   "source": [
    "user = int(input(\"Enter your year:\"))\n",
    "myleap = (user%400 == 0) or (user%4 ==0 and user%100 !=0)\n",
    "bol_cond = [f'{user} is not a leap year', f'{user} is a leap year']\n",
    "print(bol_cond[myleap])"
   ]
  },
  {
   "cell_type": "markdown",
   "id": "10eb88f9-b4e9-46d3-b08c-921486f64d8e",
   "metadata": {},
   "source": [
    "### 8. a) Write python code that computes the sum of the square of the first n natural numbers. One version with a \"for loop\" and another  version with a \"while loop\". b) Write python code that prints, for a natural number M, the smallest natural number n such that 1 2 + 22 +· · ·+n 2 ≥ M. One version with a \"for loop\" and another version with a \"while loop\"."
   ]
  },
  {
   "cell_type": "code",
   "execution_count": 175,
   "id": "329491b9-dad8-4f3c-948f-73bd920bcda1",
   "metadata": {},
   "outputs": [
    {
     "name": "stdin",
     "output_type": "stream",
     "text": [
      "Enter the value of n: 4\n"
     ]
    },
    {
     "name": "stdout",
     "output_type": "stream",
     "text": [
      "30\n"
     ]
    }
   ],
   "source": [
    "user = int(input(\"Enter the value of n:\"))\n",
    "sum = 0\n",
    "for i in range(1, user+1):\n",
    "    sum = sum + (i * i)\n",
    "print(sum)"
   ]
  },
  {
   "cell_type": "code",
   "execution_count": 187,
   "id": "f4992a82-cd6b-448c-9e33-5f73da03f6af",
   "metadata": {},
   "outputs": [
    {
     "name": "stdin",
     "output_type": "stream",
     "text": [
      "Enter the value of n: 4\n"
     ]
    },
    {
     "name": "stdout",
     "output_type": "stream",
     "text": [
      "30\n"
     ]
    }
   ],
   "source": [
    "user = int(input(\"Enter the value of n:\"))\n",
    "sum = 0\n",
    "i = 1\n",
    "while i in range(1, user+1):\n",
    "    sum = sum + (i * i)\n",
    "    i +=1\n",
    "print(sum)"
   ]
  },
  {
   "cell_type": "markdown",
   "id": "27223545-2cb9-490f-8c31-e4463f47c349",
   "metadata": {},
   "source": [
    "### 8. b)"
   ]
  },
  {
   "cell_type": "code",
   "execution_count": 192,
   "id": "bcc7fe2a-6eb0-4a79-9990-684896698a43",
   "metadata": {},
   "outputs": [
    {
     "name": "stdin",
     "output_type": "stream",
     "text": [
      "Enter a natural number: 100\n"
     ]
    },
    {
     "name": "stdout",
     "output_type": "stream",
     "text": [
      "7\n"
     ]
    }
   ],
   "source": [
    "user = int(input(\"Enter a natural number:\"))\n",
    "sum = 0\n",
    "for i in range(1, user+1):\n",
    "    sum = sum + (i * i)\n",
    "    if sum >= user:\n",
    "        print(i)\n",
    "        break"
   ]
  },
  {
   "cell_type": "code",
   "execution_count": 228,
   "id": "6bfbbb59-885f-445d-9749-51870e818169",
   "metadata": {},
   "outputs": [
    {
     "name": "stdin",
     "output_type": "stream",
     "text": [
      "Enter a natural number n: 100\n"
     ]
    },
    {
     "name": "stdout",
     "output_type": "stream",
     "text": [
      "7\n"
     ]
    }
   ],
   "source": [
    "user = int(input(\"Enter a natural number n:\"))\n",
    "sum = 0\n",
    "i = 1\n",
    "while i <= user:\n",
    "    sum = sum + (i * i)\n",
    "    i += 1\n",
    "    if sum >= user:\n",
    "        print(i-1)\n",
    "        break"
   ]
  },
  {
   "cell_type": "markdown",
   "id": "56bab343-229e-430b-917b-a180fb3f41a5",
   "metadata": {},
   "source": [
    "### 9. a) Write python code that prints all the divisors of a given natural number. b) Read an integer number input by the user and calculate its prime factors. This will just be some of its divisors."
   ]
  },
  {
   "cell_type": "code",
   "execution_count": 244,
   "id": "cee3fe6e-6b39-4ed3-92f7-5a148d3f6ef4",
   "metadata": {},
   "outputs": [
    {
     "name": "stdin",
     "output_type": "stream",
     "text": [
      "Enter any natural number: 50\n"
     ]
    },
    {
     "name": "stdout",
     "output_type": "stream",
     "text": [
      "The divisors of your natural number 50 is shown in the list below: \n",
      " [1, 2, 5, 10, 25, 50]\n"
     ]
    }
   ],
   "source": [
    "n = int(input(\"Enter any natural number:\"))\n",
    "divisors = []\n",
    "for i in range(1, n+1):\n",
    "    if (n%i == 0) :\n",
    "        divisors.append(i)\n",
    "print(\"The divisors of your natural number\",n,\"is shown in the list below: \\n\", divisors)"
   ]
  },
  {
   "cell_type": "code",
   "execution_count": 254,
   "id": "1b95e2ac-c8da-4664-8aa5-82bdd92cbc77",
   "metadata": {},
   "outputs": [
    {
     "name": "stdin",
     "output_type": "stream",
     "text": [
      "Enter any natural number: 10\n"
     ]
    },
    {
     "name": "stdout",
     "output_type": "stream",
     "text": [
      "2\n",
      "5\n"
     ]
    }
   ],
   "source": [
    "user = int(input(\"Enter any natural number:\"))\n",
    "i = 2\n",
    "while user >= i:\n",
    "    if user% i == 0:\n",
    "        print(i)\n",
    "        user = user//i\n",
    "    else:\n",
    "        i +=1"
   ]
  },
  {
   "cell_type": "markdown",
   "id": "1acf2e3e-c2c3-49bc-892c-766a5b77fdef",
   "metadata": {},
   "source": [
    "### 10. Read an integer number between n 0 and 9 and print its multiplication table up to N where N is another another natural number read by the program."
   ]
  },
  {
   "cell_type": "code",
   "execution_count": 262,
   "id": "72f6671d-2fa0-42f6-8b36-b007edcb5e10",
   "metadata": {},
   "outputs": [
    {
     "name": "stdin",
     "output_type": "stream",
     "text": [
      "Enter any integer number between 0 and 9: 3\n",
      "Enter your N: 5\n"
     ]
    },
    {
     "name": "stdout",
     "output_type": "stream",
     "text": [
      "3 * 0 = 0\n",
      "3 * 1 = 3\n",
      "3 * 2 = 6\n",
      "3 * 3 = 9\n",
      "3 * 4 = 12\n",
      "3 * 5 = 15\n"
     ]
    }
   ],
   "source": [
    "user = int(input(\"Enter any integer number between 0 and 9:\"))\n",
    "yourn= int(input(\"Enter your N:\"))\n",
    "for i in range(yourn+1):\n",
    "    print(user, \"*\", i, \"=\", user * i)\n",
    "    i += 1 "
   ]
  },
  {
   "cell_type": "markdown",
   "id": "f32ddb96-9e7a-4ca4-80fa-c4d00482e49f",
   "metadata": {},
   "source": [
    "### 11. Write a program that prints all the numbers between 0 and 40 that are multiples of 3, 7 or 11."
   ]
  },
  {
   "cell_type": "code",
   "execution_count": 274,
   "id": "afdbd22b-6d60-43db-9146-fd4bc47c726d",
   "metadata": {},
   "outputs": [
    {
     "name": "stdin",
     "output_type": "stream",
     "text": [
      "Enter any number between 0 and 40: 10\n"
     ]
    },
    {
     "name": "stdout",
     "output_type": "stream",
     "text": [
      "3\n",
      "6\n",
      "7\n",
      "9\n"
     ]
    }
   ],
   "source": [
    "user = int(input(\"Enter any number between 0 and 40:\"))\n",
    "for i in range(1, user + 1):\n",
    "    if (i % 3 == 0 or i % 7 == 0 or i % 11 == 0):\n",
    "        print(i)\n"
   ]
  },
  {
   "cell_type": "markdown",
   "id": "adbfaf01-4241-4ae1-a922-599e21042c5e",
   "metadata": {},
   "source": [
    "### 12. Write python code that prints the floor of a float x. Recall that the floor of a float x is the largest integer value less than or equal to x, i.e. if E[x] is the floor of x, then it satisfies, E[x] = 1 + E[x − 1]"
   ]
  },
  {
   "cell_type": "code",
   "execution_count": 287,
   "id": "6ee10979-ef17-4a8e-9588-66729db2856c",
   "metadata": {},
   "outputs": [
    {
     "name": "stdin",
     "output_type": "stream",
     "text": [
      "Enter your x: 4.5\n"
     ]
    },
    {
     "name": "stdout",
     "output_type": "stream",
     "text": [
      "4\n"
     ]
    }
   ],
   "source": [
    "import math\n",
    "from math import floor\n",
    "user = float(input(\"Enter your x:\"))\n",
    "print(floor(user))\n"
   ]
  },
  {
   "cell_type": "markdown",
   "id": "c38c5123-ece4-4142-8326-52cee45ee643",
   "metadata": {},
   "source": [
    "### 13. Given a point in the plane by its Cartesian coordinates, determine in which quadrant it is (1st, 2nd, 3rd, 4th), if it lies on an axis, or if it is the origin. Do this for several points in the same execution of the program until the user quits."
   ]
  },
  {
   "cell_type": "code",
   "execution_count": 314,
   "id": "448e1ef7-7dea-4567-ab46-9e7d277a1145",
   "metadata": {},
   "outputs": [
    {
     "name": "stdin",
     "output_type": "stream",
     "text": [
      "Enter the value for x: -3\n",
      "Enter the value for y: 4\n"
     ]
    },
    {
     "name": "stdout",
     "output_type": "stream",
     "text": [
      "point ( -3 , 4 ) lies in the 2nd quadrant\n"
     ]
    }
   ],
   "source": [
    "x = int(input(\"Enter the value for x:\"))\n",
    "y = int(input(\"Enter the value for y:\"))\n",
    "\n",
    "if x > 0 and y > 0:\n",
    "    print(\"point (\", x, \",\", y, \") lies in the 1st quadrant\")\n",
    "\n",
    "elif x < 0 and y > 0:\n",
    "    print(\"point (\", x, \",\", y, \") lies in the 2nd quadrant\")\n",
    "\n",
    "elif x < 0 and y < 0: \n",
    "    print(\"point (\", x, \",\", y, \") lies in the 3rd quadrant\")\n",
    "\n",
    "elif x > 0 and y < 0:\n",
    "    print(\"point (\", x, \",\", y, \") lies in the 4th quadrant\")\n",
    "\n",
    "elif x == 0 and y == 0:\n",
    "    print(\"point (\", x, \",\", y, \") lies at the origin\")\n",
    "\n",
    "elif y == 0 and x != 0:\n",
    "    print(\"point (\", x, \",\", y, \") on x-axis\")\n",
    "\n",
    "elif x == 0 and y != 0:\n",
    "    print(\"point (\", x, \",\", y, \") on at y-axis\")"
   ]
  },
  {
   "cell_type": "markdown",
   "id": "7d5d2819-1f94-402a-a992-1ec617533ef2",
   "metadata": {},
   "source": [
    "### 14. Ask for an integer number between 0 and 9, denoted x. Once the user has entered a correct number (that is one in the range [0..10)) the program asks for a second integer number between 0 and 255, denoted max. The program continues asking for the number until it is correct (that it is in the range [0..256)). When this is done, show all multiples of x that are between 0 and max. Then, ask the user whether he/she wants to continue; if in the affirmative, ask for another couple of numbers, otherwise finish."
   ]
  },
  {
   "cell_type": "code",
   "execution_count": null,
   "id": "63defbe9-eef5-4589-be3e-47799bb29aed",
   "metadata": {},
   "outputs": [],
   "source": [
    "int(input(\"Enter your number between 0 and 9: \")) = x\n",
    "if   and (x >= 0) and (x <= 9); then\n",
    "      \n",
    "    for i in range(max):\n",
    "        if ((i % x)) == 0 :\n",
    "            print(i)\n",
    "            break"
   ]
  }
 ],
 "metadata": {
  "kernelspec": {
   "display_name": "Python 3 (ipykernel)",
   "language": "python",
   "name": "python3"
  },
  "language_info": {
   "codemirror_mode": {
    "name": "ipython",
    "version": 3
   },
   "file_extension": ".py",
   "mimetype": "text/x-python",
   "name": "python",
   "nbconvert_exporter": "python",
   "pygments_lexer": "ipython3",
   "version": "3.12.4"
  }
 },
 "nbformat": 4,
 "nbformat_minor": 5
}
